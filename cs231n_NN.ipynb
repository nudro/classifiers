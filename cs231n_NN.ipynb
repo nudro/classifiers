{
  "nbformat": 4,
  "nbformat_minor": 0,
  "metadata": {
    "colab": {
      "name": "cs231n_NN.ipynb",
      "provenance": [],
      "toc_visible": true,
      "include_colab_link": true
    },
    "kernelspec": {
      "name": "python3",
      "display_name": "Python 3"
    }
  },
  "cells": [
    {
      "cell_type": "markdown",
      "metadata": {
        "id": "view-in-github",
        "colab_type": "text"
      },
      "source": [
        "<a href=\"https://colab.research.google.com/github/nudro/classifiers/blob/master/cs231n_NN.ipynb\" target=\"_parent\"><img src=\"https://colab.research.google.com/assets/colab-badge.svg\" alt=\"Open In Colab\"/></a>"
      ]
    },
    {
      "cell_type": "markdown",
      "metadata": {
        "id": "NbD_cxg9UZWy",
        "colab_type": "text"
      },
      "source": [
        "## cs231n - Linear Classifier Case Study"
      ]
    },
    {
      "cell_type": "markdown",
      "metadata": {
        "id": "gpHea_mHsR6K",
        "colab_type": "text"
      },
      "source": [
        "## Generating some data\n",
        "\n",
        "toy spiral data consists of three classes (blue, red, yellow) that are non-linearly separable"
      ]
    },
    {
      "cell_type": "code",
      "metadata": {
        "id": "hyXH78xMsM4Z",
        "colab_type": "code",
        "colab": {}
      },
      "source": [
        "import numpy as np\n",
        "N = 100 #points per class\n",
        "D = 2 #dim\n",
        "K = 3 #num of classes\n",
        "\n",
        "X = np.zeros((N*K, D)) #data matrix, row is 300 long, 2 cols\n",
        "y = np.zeros(N*K, dtype='uint8') #class labels\n",
        "\n",
        "for j in range(K):\n",
        "  ix = range(N*j, N*(j+1))\n",
        "  r = np.linspace(0.0, 1, N) #radius\n",
        "  t = np.linspace(j*4, (j+1)*4, N) + np.random.randn(N)*0.2\n",
        "  X[ix] = np.c_[r*np.sin(t), r*np.cos(t)]\n",
        "  y[ix] = j\n",
        "\n"
      ],
      "execution_count": 0,
      "outputs": []
    },
    {
      "cell_type": "code",
      "metadata": {
        "id": "XQTOckDDUWWx",
        "colab_type": "code",
        "colab": {
          "base_uri": "https://localhost:8080/",
          "height": 1000
        },
        "outputId": "2d60087e-707d-458e-90c6-f0db6adb3bc0"
      },
      "source": [
        "X"
      ],
      "execution_count": 116,
      "outputs": [
        {
          "output_type": "execute_result",
          "data": {
            "text/plain": [
              "array([[-0.00000000e+00,  0.00000000e+00],\n",
              "       [-8.19012039e-04,  1.00677517e-02],\n",
              "       [-1.27636068e-04,  2.02016170e-02],\n",
              "       [-6.67776186e-03,  2.95580977e-02],\n",
              "       [ 1.56336538e-02,  3.72568833e-02],\n",
              "       [ 9.34659260e-03,  4.96326640e-02],\n",
              "       [ 1.45826268e-02,  5.88255181e-02],\n",
              "       [ 1.65968685e-02,  6.87316070e-02],\n",
              "       [ 2.40144072e-02,  7.71573339e-02],\n",
              "       [ 2.05822899e-03,  9.08857882e-02],\n",
              "       [ 6.09602656e-02,  8.05412101e-02],\n",
              "       [ 4.88250562e-02,  9.98087817e-02],\n",
              "       [ 8.64461105e-02,  8.49673367e-02],\n",
              "       [ 5.82303070e-02,  1.17696091e-01],\n",
              "       [ 8.81609631e-02,  1.10569453e-01],\n",
              "       [ 9.43313386e-02,  1.18568291e-01],\n",
              "       [ 7.19652656e-02,  1.44709309e-01],\n",
              "       [ 6.19817759e-02,  1.60140708e-01],\n",
              "       [ 1.30722604e-01,  1.26370297e-01],\n",
              "       [ 1.35932579e-01,  1.35481771e-01],\n",
              "       [ 1.46111876e-01,  1.39511582e-01],\n",
              "       [ 1.67219264e-01,  1.30511020e-01],\n",
              "       [ 1.52336332e-01,  1.61791094e-01],\n",
              "       [ 1.81230397e-01,  1.45360337e-01],\n",
              "       [ 2.07605523e-01,  1.25177714e-01],\n",
              "       [ 2.24311342e-01,  1.15988900e-01],\n",
              "       [ 2.31535261e-01,  1.23951510e-01],\n",
              "       [ 2.46444815e-01,  1.16812322e-01],\n",
              "       [ 2.37718849e-01,  1.53237026e-01],\n",
              "       [ 2.53246359e-01,  1.47220422e-01],\n",
              "       [ 3.02964805e-01,  6.30013462e-03],\n",
              "       [ 3.05051507e-01,  7.06738823e-02],\n",
              "       [ 3.19212562e-01,  5.08180609e-02],\n",
              "       [ 3.13571172e-01,  1.13067374e-01],\n",
              "       [ 3.38429797e-01,  5.84159262e-02],\n",
              "       [ 3.24134713e-01,  1.41152167e-01],\n",
              "       [ 3.62689516e-01,  2.62244141e-02],\n",
              "       [ 3.73716878e-01, -3.91400293e-03],\n",
              "       [ 3.82256938e-01, -3.48071581e-02],\n",
              "       [ 3.66202117e-01, -1.45204186e-01],\n",
              "       [ 4.02603791e-01, -3.40416779e-02],\n",
              "       [ 4.14097224e-01,  6.04975878e-03],\n",
              "       [ 4.12727576e-01, -9.81711918e-02],\n",
              "       [ 4.23901581e-01, -9.46660899e-02],\n",
              "       [ 4.35946376e-01, -8.64963666e-02],\n",
              "       [ 4.39915897e-01, -1.14392192e-01],\n",
              "       [ 4.62483455e-01, -4.47815927e-02],\n",
              "       [ 4.72560991e-01, -4.55112620e-02],\n",
              "       [ 4.68505525e-01, -1.24822381e-01],\n",
              "       [ 4.80650773e-01, -1.18109429e-01],\n",
              "       [ 4.61128253e-01, -2.06001813e-01],\n",
              "       [ 4.65245984e-01, -2.21195068e-01],\n",
              "       [ 4.24298211e-01, -3.09614669e-01],\n",
              "       [ 4.69197852e-01, -2.57792132e-01],\n",
              "       [ 3.71935773e-01, -3.98979250e-01],\n",
              "       [ 3.89803566e-01, -3.95847389e-01],\n",
              "       [ 5.11395784e-01, -2.41747187e-01],\n",
              "       [ 3.49994131e-01, -4.57166156e-01],\n",
              "       [ 5.08007865e-01, -2.91818937e-01],\n",
              "       [ 4.15629762e-01, -4.27106240e-01],\n",
              "       [ 4.40185883e-01, -4.16588342e-01],\n",
              "       [ 2.77124858e-01, -5.50324405e-01],\n",
              "       [ 3.50649764e-01, -5.18892686e-01],\n",
              "       [ 4.30983823e-01, -4.68200408e-01],\n",
              "       [ 3.16386786e-01, -5.63751666e-01],\n",
              "       [ 3.39213730e-01, -5.62149897e-01],\n",
              "       [ 5.38760500e-01, -3.92659608e-01],\n",
              "       [ 4.88997471e-01, -4.67863187e-01],\n",
              "       [ 1.15783036e-02, -6.86771094e-01],\n",
              "       [ 2.54569988e-01, -6.48814981e-01],\n",
              "       [ 1.92951432e-01, -6.80234320e-01],\n",
              "       [ 1.16772977e-01, -7.07601119e-01],\n",
              "       [ 1.59593049e-01, -7.09546107e-01],\n",
              "       [ 2.20311816e-01, -7.03692214e-01],\n",
              "       [ 1.29679422e-01, -7.36139760e-01],\n",
              "       [ 1.72248975e-01, -7.37733908e-01],\n",
              "       [-7.95354967e-02, -7.63545496e-01],\n",
              "       [ 4.72349937e-03, -7.77763435e-01],\n",
              "       [-1.75054077e-01, -7.68185560e-01],\n",
              "       [ 4.48117133e-02, -7.96720571e-01],\n",
              "       [-2.09948227e-02, -8.07808028e-01],\n",
              "       [-1.02923616e-02, -8.18117079e-01],\n",
              "       [-1.13839818e-01, -8.20422415e-01],\n",
              "       [-2.77178477e-01, -7.91239251e-01],\n",
              "       [-4.99762407e-01, -6.85685113e-01],\n",
              "       [-2.84372028e-01, -8.10124822e-01],\n",
              "       [-3.78407012e-01, -7.81936704e-01],\n",
              "       [-3.48365820e-01, -8.06789558e-01],\n",
              "       [-2.68510018e-01, -8.47364046e-01],\n",
              "       [-1.70710622e-01, -8.82632835e-01],\n",
              "       [-4.22716026e-01, -8.04833798e-01],\n",
              "       [-4.44998828e-01, -8.04294615e-01],\n",
              "       [-7.21600460e-01, -5.85557961e-01],\n",
              "       [-6.58063260e-01, -6.70383263e-01],\n",
              "       [-7.45684597e-01, -5.87788347e-01],\n",
              "       [-5.31329361e-01, -7.99070407e-01],\n",
              "       [-4.08888987e-01, -8.79273569e-01],\n",
              "       [-4.27009981e-01, -8.81854045e-01],\n",
              "       [-8.01261006e-01, -5.81275159e-01],\n",
              "       [-5.82566503e-01, -8.12783040e-01],\n",
              "       [-0.00000000e+00, -0.00000000e+00],\n",
              "       [-7.48749036e-03, -6.77996262e-03],\n",
              "       [-1.63636092e-02, -1.18471058e-02],\n",
              "       [-2.68392134e-02, -1.40687693e-02],\n",
              "       [-3.60009360e-02, -1.83417309e-02],\n",
              "       [-4.64393277e-02, -1.98531854e-02],\n",
              "       [-5.86618826e-02, -1.52275445e-02],\n",
              "       [-6.41285874e-02, -2.97827824e-02],\n",
              "       [-7.90206712e-02, -1.69020545e-02],\n",
              "       [-8.19324355e-02, -3.93895776e-02],\n",
              "       [-9.81572316e-02, -2.38369122e-02],\n",
              "       [-1.01920544e-01, -4.42479567e-02],\n",
              "       [-1.20052897e-01, -1.67236427e-02],\n",
              "       [-1.30586530e-01, -1.37948029e-02],\n",
              "       [-1.39804686e-01, -2.12746157e-02],\n",
              "       [-1.51515091e-01, -1.35603010e-04],\n",
              "       [-1.61481596e-01, -6.59376326e-03],\n",
              "       [-1.70387817e-01,  2.13255420e-02],\n",
              "       [-1.81108642e-01, -1.60471478e-02],\n",
              "       [-1.91815460e-01,  6.30916957e-03],\n",
              "       [-2.01640020e-01, -1.23880757e-02],\n",
              "       [-1.99059810e-01,  7.32843824e-02],\n",
              "       [-2.04568948e-01,  8.68001239e-02],\n",
              "       [-2.30656858e-01,  2.77758514e-02],\n",
              "       [-2.35468323e-01,  5.76557221e-02],\n",
              "       [-2.40046523e-01,  7.84007019e-02],\n",
              "       [-2.23222387e-01,  1.38362999e-01],\n",
              "       [-2.55563677e-01,  9.52227507e-02],\n",
              "       [-2.69960726e-01,  8.43388627e-02],\n",
              "       [-2.56278345e-01,  1.41876639e-01],\n",
              "       [-2.64623364e-01,  1.47654460e-01],\n",
              "       [-2.22962409e-01,  2.19861282e-01],\n",
              "       [-2.40383891e-01,  2.16089611e-01],\n",
              "       [-3.00648558e-01,  1.43949838e-01],\n",
              "       [-2.25926809e-01,  2.58658511e-01],\n",
              "       [-1.95747866e-01,  2.94397723e-01],\n",
              "       [-2.16834203e-01,  2.91914942e-01],\n",
              "       [-8.99859360e-02,  3.62742548e-01],\n",
              "       [-1.55731183e-01,  3.50827171e-01],\n",
              "       [-2.75010960e-01,  2.82058891e-01],\n",
              "       [-2.03829280e-01,  3.48858528e-01],\n",
              "       [-2.41917135e-01,  3.36138678e-01],\n",
              "       [-2.99217466e-01,  3.00749967e-01],\n",
              "       [-1.71435410e-01,  3.99079089e-01],\n",
              "       [-2.04718269e-01,  3.94488650e-01],\n",
              "       [-1.67092348e-01,  4.22719431e-01],\n",
              "       [-2.14457146e-01,  4.12194699e-01],\n",
              "       [-2.13408401e-01,  4.24077846e-01],\n",
              "       [-2.17773648e-01,  4.33188979e-01],\n",
              "       [-1.02920398e-01,  4.84130555e-01],\n",
              "       [-1.80636349e-02,  5.04727370e-01],\n",
              "       [-2.81380479e-01,  4.31516060e-01],\n",
              "       [ 3.98750713e-02,  5.23736760e-01],\n",
              "       [-1.42756634e-01,  5.15968944e-01],\n",
              "       [-1.42209320e-01,  5.26590135e-01],\n",
              "       [-2.33294230e-02,  5.55065504e-01],\n",
              "       [-1.63070888e-02,  5.65421462e-01],\n",
              "       [-1.75063375e-01,  5.48497585e-01],\n",
              "       [-8.21110395e-02,  5.80075909e-01],\n",
              "       [ 1.21120346e-01,  5.83521809e-01],\n",
              "       [ 2.86339953e-01,  5.34152497e-01],\n",
              "       [-7.28167547e-03,  6.16118588e-01],\n",
              "       [-2.01600957e-02,  6.25938054e-01],\n",
              "       [ 1.42984604e-01,  6.20091994e-01],\n",
              "       [ 1.88906076e-01,  6.18248359e-01],\n",
              "       [ 1.58950560e-01,  6.37034678e-01],\n",
              "       [-1.05056053e-01,  6.58337049e-01],\n",
              "       [ 3.68082591e-01,  5.67916979e-01],\n",
              "       [ 2.45095263e-01,  6.41651701e-01],\n",
              "       [ 2.15505900e-01,  6.62815182e-01],\n",
              "       [ 1.31102316e-01,  6.94810166e-01],\n",
              "       [ 1.58508327e-01,  6.99435760e-01],\n",
              "       [ 2.59950003e-01,  6.79228692e-01],\n",
              "       [ 5.11043547e-01,  5.31558577e-01],\n",
              "       [ 3.85646158e-01,  6.40308940e-01],\n",
              "       [ 6.14426061e-01,  4.43172252e-01],\n",
              "       [ 5.94292432e-01,  4.85946628e-01],\n",
              "       [ 5.93910009e-01,  5.02204314e-01],\n",
              "       [ 5.80706999e-01,  5.32477573e-01],\n",
              "       [ 7.32708546e-01,  3.16085345e-01],\n",
              "       [ 6.89211069e-01,  4.21879953e-01],\n",
              "       [ 4.79873383e-01,  6.62678673e-01],\n",
              "       [ 7.44097594e-01,  3.63828550e-01],\n",
              "       [ 7.13247172e-01,  4.40642636e-01],\n",
              "       [ 7.73831306e-01,  3.48010989e-01],\n",
              "       [ 8.58556168e-01,  7.14022757e-03],\n",
              "       [ 8.54520728e-01, -1.56240845e-01],\n",
              "       [ 7.50558702e-01,  4.57088363e-01],\n",
              "       [ 8.51803595e-01,  2.54074974e-01],\n",
              "       [ 8.80305401e-01,  1.82332770e-01],\n",
              "       [ 9.06396747e-01,  6.99372396e-02],\n",
              "       [ 8.72065006e-01,  2.90545023e-01],\n",
              "       [ 9.29112768e-01, -1.82978664e-02],\n",
              "       [ 9.28286422e-01,  1.44032260e-01],\n",
              "       [ 9.40933765e-01, -1.27217564e-01],\n",
              "       [ 8.40143208e-01,  4.63663452e-01],\n",
              "       [ 9.50700050e-01,  1.91001643e-01],\n",
              "       [ 9.78316697e-01,  5.38564896e-02],\n",
              "       [ 9.77258028e-01, -1.57691969e-01],\n",
              "       [ 9.86574854e-01,  1.63309699e-01],\n",
              "       [ 0.00000000e+00, -0.00000000e+00],\n",
              "       [ 9.70605072e-03,  2.79695987e-03],\n",
              "       [ 1.74949956e-02, -1.01018192e-02],\n",
              "       [ 3.01563334e-02, -2.97812023e-03],\n",
              "       [ 3.66541903e-02, -1.69987298e-02],\n",
              "       [ 4.64414063e-02, -1.98483224e-02],\n",
              "       [ 5.91260502e-02, -1.33118280e-02],\n",
              "       [ 6.72479468e-02, -2.18449881e-02],\n",
              "       [ 7.87154895e-02, -1.82706770e-02],\n",
              "       [ 4.96597513e-02, -7.61470414e-02],\n",
              "       [ 9.04026444e-02, -4.50599866e-02],\n",
              "       [ 7.87346380e-02, -7.83998456e-02],\n",
              "       [ 7.72463709e-02, -9.34097238e-02],\n",
              "       [ 1.13479454e-01, -6.60723233e-02],\n",
              "       [ 9.44306129e-02, -1.05265468e-01],\n",
              "       [ 1.38204635e-01, -6.20992761e-02],\n",
              "       [ 1.36824282e-01, -8.60168565e-02],\n",
              "       [ 1.25832131e-01, -1.16846317e-01],\n",
              "       [ 1.32104234e-01, -1.24925269e-01],\n",
              "       [ 1.46658330e-01, -1.23791399e-01],\n",
              "       [ 1.50416788e-01, -1.34859008e-01],\n",
              "       [ 5.43860290e-02, -2.05030653e-01],\n",
              "       [ 1.35923323e-01, -1.75805479e-01],\n",
              "       [ 2.00024188e-01, -1.18171099e-01],\n",
              "       [ 1.98599926e-01, -1.39023677e-01],\n",
              "       [ 9.00624192e-02, -2.35918977e-01],\n",
              "       [ 4.13155939e-02, -2.59356079e-01],\n",
              "       [ 7.44874764e-02, -2.62358116e-01],\n",
              "       [-3.96017440e-02, -2.80042032e-01],\n",
              "       [ 1.30797376e-01, -2.62106118e-01],\n",
              "       [ 2.08370352e-02, -3.02313054e-01],\n",
              "       [-1.63654869e-02, -3.12703358e-01],\n",
              "       [-8.91618938e-02, -3.10691634e-01],\n",
              "       [ 1.12408158e-01, -3.13808089e-01],\n",
              "       [-5.36927939e-02, -3.39211191e-01],\n",
              "       [ 5.42090375e-02, -3.49354586e-01],\n",
              "       [-1.51795651e-02, -3.63319399e-01],\n",
              "       [ 4.63344268e-02, -3.70854076e-01],\n",
              "       [-9.91453586e-02, -3.70812760e-01],\n",
              "       [ 6.21459745e-02, -3.89006586e-01],\n",
              "       [-5.54242686e-02, -4.00220937e-01],\n",
              "       [ 6.23904260e-02, -4.09414882e-01],\n",
              "       [-7.88142069e-02, -4.16857236e-01],\n",
              "       [-1.64802974e-01, -4.01863408e-01],\n",
              "       [-5.90954941e-02, -4.40498112e-01],\n",
              "       [-3.11747243e-01, -3.30794841e-01],\n",
              "       [-2.86142203e-01, -3.66086023e-01],\n",
              "       [-9.50695878e-02, -4.65131098e-01],\n",
              "       [-3.08873073e-01, -3.73731827e-01],\n",
              "       [-3.59432123e-01, -3.40269821e-01],\n",
              "       [-2.17174601e-01, -4.55972812e-01],\n",
              "       [-1.88419587e-01, -4.79457133e-01],\n",
              "       [-4.01051404e-01, -3.39187245e-01],\n",
              "       [-4.00095199e-01, -3.55706677e-01],\n",
              "       [-3.53476071e-01, -4.15421868e-01],\n",
              "       [-4.40133015e-01, -3.39005759e-01],\n",
              "       [-4.26229337e-01, -3.71881571e-01],\n",
              "       [-3.99965655e-01, -4.14154876e-01],\n",
              "       [-3.94245494e-01, -4.33359866e-01],\n",
              "       [-4.16491299e-01, -4.26266158e-01],\n",
              "       [-4.63102821e-01, -3.90954262e-01],\n",
              "       [-3.75017573e-01, -4.88893605e-01],\n",
              "       [-5.82799108e-01, -2.29238036e-01],\n",
              "       [-5.46549547e-01, -3.25948263e-01],\n",
              "       [-5.84475531e-01, -2.76233402e-01],\n",
              "       [-6.14198257e-01, -2.32032245e-01],\n",
              "       [-6.04998255e-01, -2.80038490e-01],\n",
              "       [-6.01271563e-01, -3.10623559e-01],\n",
              "       [-6.86868036e-01, -9.45850327e-04],\n",
              "       [-6.62340230e-01, -2.16961237e-01],\n",
              "       [-7.06802307e-01,  1.94803500e-02],\n",
              "       [-7.16814048e-01,  2.26471182e-02],\n",
              "       [-7.26642010e-01,  3.02821493e-02],\n",
              "       [-6.98965480e-01, -2.34877173e-01],\n",
              "       [-7.35308965e-01, -1.34310180e-01],\n",
              "       [-7.56898613e-01, -3.20237067e-02],\n",
              "       [-7.56549082e-01, -1.30234813e-01],\n",
              "       [-7.72296197e-01, -9.21783906e-02],\n",
              "       [-7.78847902e-01,  1.18949275e-01],\n",
              "       [-7.75668659e-01,  1.87376331e-01],\n",
              "       [-8.01720372e-01,  1.01188132e-01],\n",
              "       [-8.15956866e-01, -6.02982690e-02],\n",
              "       [-8.05874877e-01,  1.91358631e-01],\n",
              "       [-7.99804707e-01,  2.51395884e-01],\n",
              "       [-4.13540194e-01,  7.40885312e-01],\n",
              "       [-7.00340443e-01,  4.96681931e-01],\n",
              "       [-7.95436453e-01,  3.49138547e-01],\n",
              "       [-7.41058482e-01,  4.72335117e-01],\n",
              "       [-8.30340740e-01,  3.17265995e-01],\n",
              "       [-8.56267763e-01,  2.73840020e-01],\n",
              "       [-8.41081266e-01,  3.45005195e-01],\n",
              "       [-7.81961718e-01,  4.83166281e-01],\n",
              "       [-7.78010648e-01,  5.08217257e-01],\n",
              "       [-4.24154223e-01,  8.38185045e-01],\n",
              "       [-4.60812119e-01,  8.30176397e-01],\n",
              "       [-6.52248327e-01,  7.03844106e-01],\n",
              "       [-5.42766347e-01,  8.03565122e-01],\n",
              "       [-5.34419748e-01,  8.21218372e-01],\n",
              "       [-4.41506082e-01,  8.85986676e-01],\n",
              "       [-4.94556326e-01,  8.69145580e-01]])"
            ]
          },
          "metadata": {
            "tags": []
          },
          "execution_count": 116
        }
      ]
    },
    {
      "cell_type": "code",
      "metadata": {
        "id": "B9QeTLBoUWl0",
        "colab_type": "code",
        "colab": {
          "base_uri": "https://localhost:8080/",
          "height": 255
        },
        "outputId": "1fa55e10-ccdf-49f6-e76f-0b5eca40dd4f"
      },
      "source": [
        "y"
      ],
      "execution_count": 117,
      "outputs": [
        {
          "output_type": "execute_result",
          "data": {
            "text/plain": [
              "array([0, 0, 0, 0, 0, 0, 0, 0, 0, 0, 0, 0, 0, 0, 0, 0, 0, 0, 0, 0, 0, 0,\n",
              "       0, 0, 0, 0, 0, 0, 0, 0, 0, 0, 0, 0, 0, 0, 0, 0, 0, 0, 0, 0, 0, 0,\n",
              "       0, 0, 0, 0, 0, 0, 0, 0, 0, 0, 0, 0, 0, 0, 0, 0, 0, 0, 0, 0, 0, 0,\n",
              "       0, 0, 0, 0, 0, 0, 0, 0, 0, 0, 0, 0, 0, 0, 0, 0, 0, 0, 0, 0, 0, 0,\n",
              "       0, 0, 0, 0, 0, 0, 0, 0, 0, 0, 0, 0, 1, 1, 1, 1, 1, 1, 1, 1, 1, 1,\n",
              "       1, 1, 1, 1, 1, 1, 1, 1, 1, 1, 1, 1, 1, 1, 1, 1, 1, 1, 1, 1, 1, 1,\n",
              "       1, 1, 1, 1, 1, 1, 1, 1, 1, 1, 1, 1, 1, 1, 1, 1, 1, 1, 1, 1, 1, 1,\n",
              "       1, 1, 1, 1, 1, 1, 1, 1, 1, 1, 1, 1, 1, 1, 1, 1, 1, 1, 1, 1, 1, 1,\n",
              "       1, 1, 1, 1, 1, 1, 1, 1, 1, 1, 1, 1, 1, 1, 1, 1, 1, 1, 1, 1, 1, 1,\n",
              "       1, 1, 2, 2, 2, 2, 2, 2, 2, 2, 2, 2, 2, 2, 2, 2, 2, 2, 2, 2, 2, 2,\n",
              "       2, 2, 2, 2, 2, 2, 2, 2, 2, 2, 2, 2, 2, 2, 2, 2, 2, 2, 2, 2, 2, 2,\n",
              "       2, 2, 2, 2, 2, 2, 2, 2, 2, 2, 2, 2, 2, 2, 2, 2, 2, 2, 2, 2, 2, 2,\n",
              "       2, 2, 2, 2, 2, 2, 2, 2, 2, 2, 2, 2, 2, 2, 2, 2, 2, 2, 2, 2, 2, 2,\n",
              "       2, 2, 2, 2, 2, 2, 2, 2, 2, 2, 2, 2, 2, 2], dtype=uint8)"
            ]
          },
          "metadata": {
            "tags": []
          },
          "execution_count": 117
        }
      ]
    },
    {
      "cell_type": "code",
      "metadata": {
        "id": "aHv3OdigtPjV",
        "colab_type": "code",
        "outputId": "b0a245bf-dfe5-4e48-ba70-4bb631ad8633",
        "colab": {
          "base_uri": "https://localhost:8080/",
          "height": 265
        }
      },
      "source": [
        "import matplotlib.pyplot as plt\n",
        "%matplotlib inline\n",
        "\n",
        "plt.scatter(X[:,0], X[:, 1], c=y, s=40, cmap=plt.cm.Spectral)\n",
        "plt.show()"
      ],
      "execution_count": 70,
      "outputs": [
        {
          "output_type": "display_data",
          "data": {
            "image/png": "[encoded data removed]",
            "text/plain": [
              "<Figure size 432x288 with 1 Axes>"
            ]
          },
          "metadata": {
            "tags": []
          }
        }
      ]
    },
    {
      "cell_type": "markdown",
      "metadata": {
        "id": "soq1gO_-xUNw",
        "colab_type": "text"
      },
      "source": [
        "## **Random normal distribution - Initialize of Weights and biases**"
      ]
    },
    {
      "cell_type": "code",
      "metadata": {
        "id": "4k_df5qMttDu",
        "colab_type": "code",
        "colab": {}
      },
      "source": [
        "#initialize parameters randomly \n",
        "W = 0.01 * np.random.randn(D,K) #D = dim, K = number of classes (3)\n",
        "b = np.zeros((1,K))"
      ],
      "execution_count": 0,
      "outputs": []
    },
    {
      "cell_type": "markdown",
      "metadata": {
        "id": "zlQxvwYgxckq",
        "colab_type": "text"
      },
      "source": [
        "## **Compute class scores**\n",
        "\n",
        "Follow linear equation for a neural unit: <br>\n",
        "\n",
        "$a = W^T*X +b$"
      ]
    },
    {
      "cell_type": "code",
      "metadata": {
        "id": "eK5J1GhQxS3E",
        "colab_type": "code",
        "colab": {}
      },
      "source": [
        "scores = np.dot(X,W) + b #multiple [300,2] dot product [2,3] = scores shape [300,3]"
      ],
      "execution_count": 0,
      "outputs": []
    },
    {
      "cell_type": "code",
      "metadata": {
        "id": "bNplfL-gxwt7",
        "colab_type": "code",
        "outputId": "04094d8d-971a-4559-a6c9-c30b6cb5884b",
        "colab": {
          "base_uri": "https://localhost:8080/",
          "height": 34
        }
      },
      "source": [
        "scores.shape"
      ],
      "execution_count": 73,
      "outputs": [
        {
          "output_type": "execute_result",
          "data": {
            "text/plain": [
              "(300, 3)"
            ]
          },
          "metadata": {
            "tags": []
          },
          "execution_count": 73
        }
      ]
    },
    {
      "cell_type": "markdown",
      "metadata": {
        "id": "1InvSdh0yY7L",
        "colab_type": "text"
      },
      "source": [
        "Each row is the class score corresponding to each of the blue, red, yellow classes."
      ]
    },
    {
      "cell_type": "code",
      "metadata": {
        "id": "zZfmGexcyfIw",
        "colab_type": "code",
        "outputId": "574b8b5b-6639-4063-b9bf-f9ee4d2fb2f4",
        "colab": {
          "base_uri": "https://localhost:8080/",
          "height": 34
        }
      },
      "source": [
        "scores[1:2] #the second row, for example"
      ],
      "execution_count": 74,
      "outputs": [
        {
          "output_type": "execute_result",
          "data": {
            "text/plain": [
              "array([[-5.66407405e-05,  3.83784389e-05, -1.29173480e-05]])"
            ]
          },
          "metadata": {
            "tags": []
          },
          "execution_count": 74
        }
      ]
    },
    {
      "cell_type": "code",
      "metadata": {
        "id": "bDl1dWOixyrp",
        "colab_type": "code",
        "outputId": "86e0bcd6-608a-452e-83d3-891c29068cbd",
        "colab": {
          "base_uri": "https://localhost:8080/",
          "height": 1000
        }
      },
      "source": [
        "scores"
      ],
      "execution_count": 75,
      "outputs": [
        {
          "output_type": "execute_result",
          "data": {
            "text/plain": [
              "array([[ 0.00000000e+00,  0.00000000e+00,  0.00000000e+00],\n",
              "       [-5.66407405e-05,  3.83784389e-05, -1.29173480e-05],\n",
              "       [-1.07226023e-04,  7.16944328e-05, -1.05998931e-05],\n",
              "       [-1.84412584e-04,  1.27658386e-04, -8.11129835e-05],\n",
              "       [-1.30461229e-04,  7.65837258e-05,  1.40837263e-04],\n",
              "       [-2.22477230e-04,  1.42273787e-04,  7.15914870e-05],\n",
              "       [-2.48821996e-04,  1.56336875e-04,  1.20274804e-04],\n",
              "       [-2.92594950e-04,  1.84211412e-04,  1.36067240e-04],\n",
              "       [-3.05638127e-04,  1.87920365e-04,  2.07152234e-04],\n",
              "       [-4.71240461e-04,  3.13318960e-04, -2.10824000e-05],\n",
              "       [-1.66844267e-04,  7.03176799e-05,  5.78999181e-04],\n",
              "       [-3.20054150e-04,  1.80818019e-04,  4.47470950e-04],\n",
              "       [-8.21492348e-05, -3.42892717e-06,  8.34541122e-04],\n",
              "       [-3.74635337e-04,  2.10926844e-04,  5.34285099e-04],\n",
              "       [-2.10082477e-04,  8.08519491e-05,  8.40074178e-04],\n",
              "       [-2.26159687e-04,  8.74280683e-05,  8.98751008e-04],\n",
              "       [-4.59050912e-04,  2.58040352e-04,  6.60653310e-04],\n",
              "       [-5.82877869e-04,  3.47467099e-04,  5.52640091e-04],\n",
              "       [-1.13049663e-04, -1.26483133e-05,  1.26295667e-03],\n",
              "       [-1.39075160e-04,  1.21913066e-06,  1.31141411e-03],\n",
              "       [-1.17192616e-04, -2.02584800e-05,  1.41243766e-03],\n",
              "       [ 1.98425184e-05, -1.26006808e-04,  1.62991484e-03],\n",
              "       [-2.08456783e-04,  3.64930074e-05,  1.46507983e-03],\n",
              "       [ 8.35624670e-07, -1.22761168e-04,  1.76468003e-03],\n",
              "       [ 2.19260417e-04, -2.86415679e-04,  2.04055072e-03],\n",
              "       [ 3.38625431e-04, -3.77395470e-04,  2.21362866e-03],\n",
              "       [ 3.27206956e-04, -3.74640977e-04,  2.28297019e-03],\n",
              "       [ 4.28131058e-04, -4.52094224e-04,  2.43694896e-03],\n",
              "       [ 1.98770764e-04, -2.93037474e-04,  2.33197062e-03],\n",
              "       [ 2.96386859e-04, -3.68698231e-04,  2.49167763e-03],\n",
              "       [ 1.25141193e-03, -1.04001418e-03,  3.05911768e-03],\n",
              "       [ 9.20302367e-04, -8.20297532e-04,  3.05054110e-03],\n",
              "       [ 1.08520913e-03, -9.39975382e-04,  3.20281535e-03],\n",
              "       [ 7.32548749e-04, -7.00655496e-04,  3.11711112e-03],\n",
              "       [ 1.12657298e-03, -9.80557376e-04,  3.39353968e-03],\n",
              "       [ 6.29026203e-04, -6.38643371e-04,  3.21093244e-03],\n",
              "       [ 1.39944664e-03, -1.17914786e-03,  3.65356454e-03],\n",
              "       [ 1.60536781e-03, -1.32410317e-03,  3.77890574e-03],\n",
              "       [ 1.80472767e-03, -1.46299948e-03,  3.87945596e-03],\n",
              "       [ 2.31965631e-03, -1.79605670e-03,  3.76806858e-03],\n",
              "       [ 1.88696335e-03, -1.53163847e-03,  4.08474586e-03],\n",
              "       [ 1.72397678e-03, -1.43054172e-03,  4.18243222e-03],\n",
              "       [ 2.26856010e-03, -1.79330529e-03,  4.21661950e-03],\n",
              "       [ 2.29743157e-03, -1.82012101e-03,  4.32793822e-03],\n",
              "       [ 2.30536163e-03, -1.83353868e-03,  4.44590820e-03],\n",
              "       [ 2.46951180e-03, -1.94583914e-03,  4.49888333e-03],\n",
              "       [ 2.19759283e-03, -1.77946171e-03,  4.69489037e-03],\n",
              "       [ 2.24417869e-03, -1.81736823e-03,  4.79707882e-03],\n",
              "       [ 2.64582427e-03, -2.08286316e-03,  4.79264126e-03],\n",
              "       [ 2.66187350e-03, -2.10177076e-03,  4.91229786e-03],\n",
              "       [ 3.04325072e-03, -2.34330056e-03,  4.75549171e-03],\n",
              "       [ 3.14094705e-03, -2.41132132e-03,  4.80411081e-03],\n",
              "       [ 3.43425750e-03, -2.57959082e-03,  4.43100573e-03],\n",
              "       [ 3.35097364e-03, -2.55424735e-03,  4.86091749e-03],\n",
              "       [ 3.68415599e-03, -2.71117179e-03,  3.94296977e-03],\n",
              "       [ 3.74338268e-03, -2.76277314e-03,  4.12211364e-03],\n",
              "       [ 3.44517509e-03, -2.64561151e-03,  5.28001154e-03],\n",
              "       [ 3.89840052e-03, -2.83945477e-03,  3.74802418e-03],\n",
              "       [ 3.69523812e-03, -2.81032574e-03,  5.26884584e-03],\n",
              "       [ 4.01797340e-03, -2.96356660e-03,  4.39754085e-03],\n",
              "       [ 4.06655539e-03, -3.01256906e-03,  4.64087882e-03],\n",
              "       [ 4.08137681e-03, -2.91251562e-03,  3.05447694e-03],\n",
              "       [ 4.22715864e-03, -3.05945020e-03,  3.78309717e-03],\n",
              "       [ 4.30009873e-03, -3.16233053e-03,  4.57166030e-03],\n",
              "       [ 4.31877133e-03, -3.09752815e-03,  3.45747947e-03],\n",
              "       [ 4.40710708e-03, -3.17191324e-03,  3.68744988e-03],\n",
              "       [ 4.35818056e-03, -3.27379261e-03,  5.62613056e-03],\n",
              "       [ 4.54431721e-03, -3.36454451e-03,  5.15784037e-03],\n",
              "       [ 3.67593645e-03, -2.46269460e-03,  4.33517964e-04],\n",
              "       [ 4.50586483e-03, -3.18079125e-03,  2.87190744e-03],\n",
              "       [ 4.41050495e-03, -3.07555820e-03,  2.26361725e-03],\n",
              "       [ 4.23200425e-03, -2.90498381e-03,  1.50630468e-03],\n",
              "       [ 4.42384870e-03, -3.06197604e-03,  1.93997725e-03],\n",
              "       [ 4.65040432e-03, -3.25421835e-03,  2.55095521e-03],\n",
              "       [ 4.43744499e-03, -3.05088534e-03,  1.64990024e-03],\n",
              "       [ 4.62637437e-03, -3.20576188e-03,  2.08087917e-03],\n",
              "       [ 3.69502604e-03, -2.41400537e-03, -4.51974524e-04],\n",
              "       [ 4.12740036e-03, -2.75957194e-03,  4.06171182e-04],\n",
              "       [ 3.31449608e-03, -2.09546953e-03, -1.41522851e-03],\n",
              "       [ 4.39750193e-03, -2.96698426e-03,  8.20073289e-04],\n",
              "       [ 4.17701074e-03, -2.77536127e-03,  1.60085871e-04],\n",
              "       [ 4.27683526e-03, -2.84924337e-03,  2.73004999e-04],\n",
              "       [ 3.84993019e-03, -2.49432315e-03, -7.72471631e-04],\n",
              "       [ 3.00319742e-03, -1.81871389e-03, -2.43676066e-03],\n",
              "       [ 1.50192743e-03, -6.66038478e-04, -4.73502849e-03],\n",
              "       [ 3.07242886e-03, -1.86009788e-03, -2.50076143e-03],\n",
              "       [ 2.52482417e-03, -1.43098551e-03, -3.46414976e-03],\n",
              "       [ 2.78345795e-03, -1.62396465e-03, -3.14907441e-03],\n",
              "       [ 3.33635010e-03, -2.04704716e-03, -2.32328476e-03],\n",
              "       [ 3.93731034e-03, -2.51433010e-03, -1.31858694e-03],\n",
              "       [ 2.45785717e-03, -1.35638574e-03, -3.90142240e-03],\n",
              "       [ 2.36052241e-03, -1.27635779e-03, -4.12687991e-03],\n",
              "       [ 3.24801518e-05,  4.64881934e-04, -7.02325682e-03],\n",
              "       [ 7.49864080e-04, -5.70489320e-05, -6.34200396e-03],\n",
              "       [-5.78668340e-05,  5.41457898e-04, -7.26564382e-03],\n",
              "       [ 1.96685992e-03, -9.55247167e-04, -5.00181760e-03],\n",
              "       [ 2.90960558e-03, -1.66739878e-03, -3.72736905e-03],\n",
              "       [ 2.84639336e-03, -1.61296506e-03, -3.90932609e-03],\n",
              "       [-3.27927548e-04,  7.59286578e-04, -7.83034807e-03],\n",
              "       [ 1.82201192e-03, -8.23964795e-04, -5.51334447e-03],\n",
              "       [ 0.00000000e+00,  0.00000000e+00,  0.00000000e+00],\n",
              "       [ 4.05527073e-06,  2.34057558e-06, -7.25504343e-05],\n",
              "       [-6.82316208e-06,  1.55906206e-05, -1.59924885e-04],\n",
              "       [-3.95109912e-05,  4.44840843e-05, -2.64776437e-04],\n",
              "       [-5.57945650e-05,  6.15364069e-05, -3.55403441e-04],\n",
              "       [-9.20752151e-05,  9.28041590e-05, -4.60206192e-04],\n",
              "       [-1.68331397e-04,  1.51971683e-04, -5.85869493e-04],\n",
              "       [-1.14645996e-04,  1.19805337e-04, -6.34412915e-04],\n",
              "       [-2.45817107e-04,  2.17446555e-04, -7.90861104e-04],\n",
              "       [-1.39407391e-04,  1.48346732e-04, -8.09926530e-04],\n",
              "       [-2.90340206e-04,  2.60083981e-04, -9.81075607e-04],\n",
              "       [-1.98507259e-04,  2.01293106e-04, -1.00970445e-03],\n",
              "       [-4.20751132e-04,  3.61940022e-04, -1.20565005e-03],\n",
              "       [-4.80884849e-04,  4.09201703e-04, -1.31346169e-03],\n",
              "       [-4.80472328e-04,  4.15141985e-04, -1.40318118e-03],\n",
              "       [-6.41763970e-04,  5.30753092e-04, -1.53127843e-03],\n",
              "       [-6.49920081e-04,  5.42920343e-04, -1.62903221e-03],\n",
              "       [-8.35127689e-04,  6.72612310e-04, -1.73191267e-03],\n",
              "       [-6.83222672e-04,  5.78395151e-04, -1.82304332e-03],\n",
              "       [-8.46687320e-04,  6.94780733e-04, -1.94155845e-03],\n",
              "       [-7.89606886e-04,  6.63285584e-04, -2.03223724e-03],\n",
              "       [-1.23110234e-03,  9.56388075e-04, -2.04564150e-03],\n",
              "       [-1.32583980e-03,  1.02337104e-03, -2.10755027e-03],\n",
              "       [-1.12475484e-03,  9.06672203e-04, -2.34401570e-03],\n",
              "       [-1.30295292e-03,  1.02892194e-03, -2.40641457e-03],\n",
              "       [-1.43192048e-03,  1.11813695e-03, -2.46224607e-03],\n",
              "       [-1.67724099e-03,  1.27062399e-03, -2.31984055e-03],\n",
              "       [-1.58655625e-03,  1.23186996e-03, -2.62682811e-03],\n",
              "       [-1.59012723e-03,  1.24396264e-03, -2.76732116e-03],\n",
              "       [-1.83596603e-03,  1.39891429e-03, -2.65555155e-03],\n",
              "       [-1.90186469e-03,  1.44855018e-03, -2.74255615e-03],\n",
              "       [-2.10653125e-03,  1.55714006e-03, -2.35477139e-03],\n",
              "       [-2.16048658e-03,  1.60492010e-03, -2.52910959e-03],\n",
              "       [-2.03506073e-03,  1.56179369e-03, -3.10495025e-03],\n",
              "       [-2.32398968e-03,  1.70436342e-03, -2.40261181e-03],\n",
              "       [-2.38475867e-03,  1.72459699e-03, -2.11406801e-03],\n",
              "       [-2.46106098e-03,  1.78977214e-03, -2.32604036e-03],\n",
              "       [-2.29721815e-03,  1.59482016e-03, -1.07664425e-03],\n",
              "       [-2.51307720e-03,  1.78330836e-03, -1.73563068e-03],\n",
              "       [-2.65570213e-03,  1.95898705e-03, -2.90948221e-03],\n",
              "       [-2.70663453e-03,  1.94500346e-03, -2.22084389e-03],\n",
              "       [-2.80096757e-03,  2.03368408e-03, -2.59993035e-03],\n",
              "       [-2.85705431e-03,  2.10977772e-03, -3.16274759e-03],\n",
              "       [-2.83448746e-03,  2.00854392e-03, -1.91658787e-03],\n",
              "       [-2.95137698e-03,  2.10904836e-03, -2.25085736e-03],\n",
              "       [-2.94091598e-03,  2.07669119e-03, -1.88358780e-03],\n",
              "       [-3.08617912e-03,  2.20563969e-03, -2.35744659e-03],\n",
              "       [-3.14448699e-03,  2.24387206e-03, -2.35232341e-03],\n",
              "       [-3.21111317e-03,  2.29131026e-03, -2.40064119e-03],\n",
              "       [-2.99311547e-03,  2.06828043e-03, -1.26331250e-03],\n",
              "       [-2.74206322e-03,  1.84340245e-03, -4.15169602e-04],\n",
              "       [-3.47199500e-03,  2.50842392e-03, -3.04273518e-03],\n",
              "       [-2.59677030e-03,  1.70730410e-03,  1.61647993e-04],\n",
              "       [-3.33017449e-03,  2.32023880e-03, -1.68060422e-03],\n",
              "       [-3.38394422e-03,  2.35577859e-03, -1.67996736e-03],\n",
              "       [-3.03022794e-03,  2.03939716e-03, -4.91588430e-04],\n",
              "       [-3.05514049e-03,  2.05129928e-03, -4.25387255e-04],\n",
              "       [-3.63895089e-03,  2.54823216e-03, -2.02211453e-03],\n",
              "       [-3.41156378e-03,  2.33369957e-03, -1.09721167e-03],\n",
              "       [-2.56798527e-03,  1.63329725e-03,  9.55230258e-04],\n",
              "       [-1.60667347e-03,  8.79900775e-04,  2.64783252e-03],\n",
              "       [-3.28460107e-03,  2.19845330e-03, -3.57532436e-04],\n",
              "       [-3.39106697e-03,  2.27823792e-03, -4.92218042e-04],\n",
              "       [-2.66839997e-03,  1.68561384e-03,  1.15935579e-03],\n",
              "       [-2.46393968e-03,  1.51810515e-03,  1.62432704e-03],\n",
              "       [-2.69017277e-03,  1.68938849e-03,  1.31291337e-03],\n",
              "       [-3.92215645e-03,  2.69015859e-03, -1.36518015e-03],\n",
              "       [-1.43836474e-03,  7.12380949e-04,  3.45843311e-03],\n",
              "       [-2.34926984e-03,  1.40363740e-03,  2.18143756e-03],\n",
              "       [-2.58650410e-03,  1.58202072e-03,  1.87262902e-03],\n",
              "       [-3.11337216e-03,  1.99079020e-03,  1.00482945e-03],\n",
              "       [-3.02158829e-03,  1.91101472e-03,  1.27968631e-03],\n",
              "       [-2.48472444e-03,  1.48408105e-03,  2.31425494e-03],\n",
              "       [-6.40148527e-04,  8.29129437e-05,  4.92007438e-03],\n",
              "       [-1.74619087e-03,  9.06112302e-04,  3.60258377e-03],\n",
              "       [ 2.65000056e-04, -5.91279691e-04,  6.00567911e-03],\n",
              "       [-4.62655934e-05, -3.69832229e-04,  5.78247893e-03],\n",
              "       [-1.33744092e-04, -3.11153913e-04,  5.77112150e-03],\n",
              "       [-3.49602911e-04, -1.58094946e-04,  5.62372921e-03],\n",
              "       [ 1.43770792e-03, -1.45420248e-03,  7.25971080e-03],\n",
              "       [ 6.94560879e-04, -9.28579055e-04,  6.77133282e-03],\n",
              "       [-1.46476717e-03,  6.54632990e-04,  4.54461552e-03],\n",
              "       [ 1.23386970e-03, -1.32575354e-03,  7.35281585e-03],\n",
              "       [ 6.97397071e-04, -9.46680611e-04,  7.00561544e-03],\n",
              "       [ 1.44348423e-03, -1.48578901e-03,  7.66061964e-03],\n",
              "       [ 3.60288851e-03, -2.98502590e-03,  8.67401140e-03],\n",
              "       [ 4.44859267e-03, -3.54708838e-03,  8.70851979e-03],\n",
              "       [ 7.68761841e-04, -1.01949894e-03,  7.37513863e-03],\n",
              "       [ 2.27019198e-03, -2.09046275e-03,  8.49196451e-03],\n",
              "       [ 2.76992098e-03, -2.44341365e-03,  8.81309043e-03],\n",
              "       [ 3.47411907e-03, -2.93128904e-03,  9.12858922e-03],\n",
              "       [ 2.16350943e-03, -2.03287953e-03,  8.67993644e-03],\n",
              "       [ 4.03641327e-03, -3.32212129e-03,  9.39883979e-03],\n",
              "       [ 3.17564338e-03, -2.74671923e-03,  9.31567835e-03],\n",
              "       [ 4.66174391e-03, -3.74770446e-03,  9.56850840e-03],\n",
              "       [ 1.11391025e-03, -1.31040473e-03,  8.27752604e-03],\n",
              "       [ 3.02264001e-03, -2.65965299e-03,  9.52056383e-03],\n",
              "       [ 3.86400878e-03, -3.24016308e-03,  9.86288446e-03],\n",
              "       [ 4.97670766e-03, -3.98253891e-03,  9.94967653e-03],\n",
              "       [ 3.32100370e-03, -2.88309841e-03,  9.89590705e-03],\n",
              "       [ 0.00000000e+00,  0.00000000e+00,  0.00000000e+00],\n",
              "       [ 2.63864959e-05, -2.41663594e-05,  9.68086629e-05],\n",
              "       [ 1.27532996e-04, -9.69667243e-05,  1.81474781e-04],\n",
              "       [ 1.43601482e-04, -1.16235186e-04,  3.06158127e-04],\n",
              "       [ 2.45197681e-04, -1.88465295e-04,  3.78292402e-04],\n",
              "       [ 3.01747809e-04, -2.32830453e-04,  4.78523599e-04],\n",
              "       [ 3.21016150e-04, -2.54251577e-04,  6.03713108e-04],\n",
              "       [ 4.00519642e-04, -3.12822678e-04,  6.89732429e-04],\n",
              "       [ 4.30270322e-04, -3.40423497e-04,  8.03985993e-04],\n",
              "       [ 6.12708483e-04, -4.42668319e-04,  5.36996147e-04],\n",
              "       [ 6.21302609e-04, -4.75880515e-04,  9.34452188e-04],\n",
              "       [ 7.47893834e-04, -5.52553774e-04,  8.31889989e-04],\n",
              "       [ 8.20850242e-04, -6.00272455e-04,  8.23765577e-04],\n",
              "       [ 8.30123040e-04, -6.30896934e-04,  1.17736965e-03],\n",
              "       [ 9.56328010e-04, -7.02335368e-04,  1.00290791e-03],\n",
              "       [ 9.13985286e-04, -7.03574471e-04,  1.42543247e-03],\n",
              "       [ 1.03444089e-03, -7.83087136e-04,  1.42250384e-03],\n",
              "       [ 1.15064057e-03, -8.53276377e-04,  1.32561550e-03],\n",
              "       [ 1.21990158e-03, -9.03759962e-04,  1.39272990e-03],\n",
              "       [ 1.27562837e-03, -9.50789567e-04,  1.53930349e-03],\n",
              "       [ 1.35001369e-03, -1.00300037e-03,  1.58239017e-03],\n",
              "       [ 1.31338438e-03, -9.13785091e-04,  6.44159824e-04],\n",
              "       [ 1.50479447e-03, -1.09659416e-03,  1.45477697e-03],\n",
              "       [ 1.47223854e-03, -1.11807547e-03,  2.07607432e-03],\n",
              "       [ 1.57632167e-03, -1.18662456e-03,  2.07128940e-03],\n",
              "       [ 1.62778682e-03, -1.14780782e-03,  1.01897075e-03],\n",
              "       [ 1.54485363e-03, -1.05955301e-03,  5.37094658e-04],\n",
              "       [ 1.70136846e-03, -1.18644545e-03,  8.73741521e-04],\n",
              "       [ 1.31097673e-03, -8.48801525e-04, -2.71191974e-04],\n",
              "       [ 1.93881248e-03, -1.38298643e-03,  1.44274133e-03],\n",
              "       [ 1.68487287e-03, -1.13925292e-03,  3.49917529e-04],\n",
              "       [ 1.58199162e-03, -1.04546056e-03, -2.12945752e-05],\n",
              "       [ 1.26268398e-03, -7.83132093e-04, -7.57964342e-04],\n",
              "       [ 2.13387366e-03, -1.50085364e-03,  1.28071099e-03],\n",
              "       [ 1.56369796e-03, -1.00807388e-03, -3.86340115e-04],\n",
              "       [ 2.07480898e-03, -1.42216519e-03,  7.08882529e-04],\n",
              "       [ 1.85432383e-03, -1.22813086e-03,  1.40177137e-05],\n",
              "       [ 2.15495659e-03, -1.47038005e-03,  6.39203005e-04],\n",
              "       [ 1.53785024e-03, -9.60163559e-04, -8.31159008e-04],\n",
              "       [ 2.31786686e-03, -1.58983752e-03,  8.07373577e-04],\n",
              "       [ 1.87854852e-03, -1.21717187e-03, -3.75723600e-04],\n",
              "       [ 2.42667970e-03, -1.66267043e-03,  8.19249354e-04],\n",
              "       [ 1.86722286e-03, -1.19383653e-03, -6.04455474e-04],\n",
              "       [ 1.42341620e-03, -8.39468753e-04, -1.48044129e-03],\n",
              "       [ 2.07568504e-03, -1.34634934e-03, -3.94266447e-04],\n",
              "       [ 4.25004773e-04, -7.36191688e-05, -2.99833746e-03],\n",
              "       [ 7.19952462e-04, -2.87858423e-04, -2.72328715e-03],\n",
              "       [ 2.05322843e-03, -1.30709500e-03, -7.46499279e-04],\n",
              "       [ 6.63942668e-04, -2.35126247e-04, -2.94950118e-03],\n",
              "       [ 2.72840623e-04,  6.01538390e-05, -3.47591506e-03],\n",
              "       [ 1.48709303e-03, -8.46679788e-04, -1.98481743e-03],\n",
              "       [ 1.73304571e-03, -1.03032290e-03, -1.68337197e-03],\n",
              "       [ 9.06423740e-05,  2.09894395e-04, -3.89705395e-03],\n",
              "       [ 1.81936205e-04,  1.48281199e-04, -3.87977677e-03],\n",
              "       [ 6.94974673e-04, -2.25774570e-04, -3.38108436e-03],\n",
              "       [-7.60365588e-05,  3.47559600e-04, -4.29212974e-03],\n",
              "       [ 1.56537444e-04,  1.82865333e-04, -4.13645651e-03],\n",
              "       [ 4.91150629e-04, -5.83077061e-05, -3.85153170e-03],\n",
              "       [ 6.16827839e-04, -1.46095352e-04, -3.78486826e-03],\n",
              "       [ 4.85035497e-04, -4.30806665e-05, -4.01297250e-03],\n",
              "       [ 1.00903159e-04,  2.44883058e-04, -4.50034180e-03],\n",
              "       [ 9.91635183e-04, -4.09366918e-04, -3.56494181e-03],\n",
              "       [-1.26067729e-03,  1.23489327e-03, -5.78462147e-03],\n",
              "       [-5.96238733e-04,  7.66720692e-04, -5.37368364e-03],\n",
              "       [-1.01960328e-03,  1.07502809e-03, -5.77990707e-03],\n",
              "       [-1.37906508e-03,  1.33512811e-03, -6.10068038e-03],\n",
              "       [-1.08653254e-03,  1.13356363e-03, -5.98557367e-03],\n",
              "       [-9.09210152e-04,  1.01263016e-03, -5.93381345e-03],\n",
              "       [-2.90757978e-03,  2.40491159e-03, -6.94163916e-03],\n",
              "       [-1.66279491e-03,  1.55707237e-03, -6.59418974e-03],\n",
              "       [-3.09997929e-03,  2.54684268e-03, -7.15252532e-03],\n",
              "       [-3.15915649e-03,  2.59311367e-03, -7.25517193e-03],\n",
              "       [-3.24115131e-03,  2.65449894e-03, -7.35802031e-03],\n",
              "       [-1.72348542e-03,  1.62229939e-03, -6.95609926e-03],\n",
              "       [-2.40868984e-03,  2.10440329e-03, -7.36976375e-03],\n",
              "       [-3.04041311e-03,  2.54084260e-03, -7.63510579e-03],\n",
              "       [-2.52027782e-03,  2.19324684e-03, -7.58631264e-03],\n",
              "       [-2.78802750e-03,  2.38267538e-03, -7.76300470e-03],\n",
              "       [-3.93077498e-03,  3.15025010e-03, -7.92651979e-03],\n",
              "       [-4.27865729e-03,  3.38043134e-03, -7.92592218e-03],\n",
              "       [-3.93396607e-03,  3.16780403e-03, -8.14950330e-03],\n",
              "       [-3.14152392e-03,  2.64818987e-03, -8.21896863e-03],\n",
              "       [-4.42777338e-03,  3.50038296e-03, -8.23304727e-03],\n",
              "       [-4.71909052e-03,  3.69083914e-03, -8.19936505e-03],\n",
              "       [-5.66618106e-03,  4.06287419e-03, -4.52102664e-03],\n",
              "       [-5.59268154e-03,  4.20717782e-03, -7.30713405e-03],\n",
              "       [-5.21674679e-03,  4.02024163e-03, -8.20026034e-03],\n",
              "       [-5.63676551e-03,  4.26407431e-03, -7.70744513e-03],\n",
              "       [-5.19643486e-03,  4.03021264e-03, -8.53834445e-03],\n",
              "       [-5.07704233e-03,  3.96796167e-03, -8.78037227e-03],\n",
              "       [-5.38846946e-03,  4.16570072e-03, -8.65968096e-03],\n",
              "       [-5.86740979e-03,  4.44568558e-03, -8.12583971e-03],\n",
              "       [-5.98295006e-03,  4.52018223e-03, -8.09745153e-03],\n",
              "       [-6.22502864e-03,  4.44324436e-03, -4.67314156e-03],\n",
              "       [-6.33817800e-03,  4.54352680e-03, -5.03994679e-03],\n",
              "       [-6.48277721e-03,  4.76917883e-03, -6.91654453e-03],\n",
              "       [-6.54516006e-03,  4.73701637e-03, -5.85598244e-03],\n",
              "       [-6.60299425e-03,  4.77001148e-03, -5.77976007e-03],\n",
              "       [-6.55104750e-03,  4.67266867e-03, -4.87054360e-03],\n",
              "       [-6.68706231e-03,  4.79927457e-03, -5.39895349e-03]])"
            ]
          },
          "metadata": {
            "tags": []
          },
          "execution_count": 75
        }
      ]
    },
    {
      "cell_type": "markdown",
      "metadata": {
        "id": "LKHP1IRnuMa4",
        "colab_type": "text"
      },
      "source": [
        "## **Training a Softmax Linear Classifier**\n",
        "\n",
        "Softmax takes ***logit*** function as input, together this is a cross-entropy loss: \n",
        "\n",
        "\n",
        "$L_i = -log(\\frac{e^f_{yi}}{\\sum e^{f_j}})$\n",
        "\n",
        "***logit***: \n",
        "\n",
        "$e^{log_e(\\frac{p}{1-p})}$\n",
        "\n",
        "convert to probability distribution of the predicted output -> softmax: \n",
        "\n",
        "1. logit simplifies to $\\frac{p}{1-p} = e^k$, where **k = unnormalized log probabilities**\n",
        "2. if $e^4 = 54.598$, then $p = (1-p)*54.598$\n",
        "3. solving ofr p = 0.982\n",
        "4. if there are three values, $e^4 = 54.6$, $e^2 = 7.39$, $e^-2 = 0.135$, where k's are the unnormalized raw values after the activation, then for each k:<br>\n",
        "$\\frac{e^4}{(e^4 + e^2 + e^-2} = 0.879$<br>\n",
        "$\\frac{e^2}{(e^4 + e^2 + e^-2} = 0.119$<br>\n",
        "$\\frac{e^-2}{(e^4 + e^2 + e^-2} = 0.002$\n",
        "=> see how they all add up to 1.0. They are now normalized probabilities.\n",
        "\n",
        "\n",
        "\n",
        "The full Softmax classifier is the average cross-entropy loss over the N training examples and the regularization: \n",
        "\n",
        "\n",
        "$L = \\frac{1}{N} \\sum_i L_i + \\frac{1}{2}\\lambda \\sum_k \\sum_l W^2_{k, l}$\n",
        "\n",
        "Note: $\\lambda$ is the regularization parameter \"strength\""
      ]
    },
    {
      "cell_type": "markdown",
      "metadata": {
        "id": "8TAIA65d0NXi",
        "colab_type": "text"
      },
      "source": [
        "##**Compute the loss**\n",
        "\n",
        "Also called the \"objective function\". Our loss function is the softmax which is the cross-entropy loss.\n",
        "\n",
        "[logit plot](https://https://www.datavedas.com/wp-content/uploads/2018/04/3.1.1.2.1-Logistic-Regression-1.png)"
      ]
    },
    {
      "cell_type": "code",
      "metadata": {
        "id": "HvsOH5eS97bL",
        "colab_type": "code",
        "outputId": "e690e60b-9c22-401f-9a79-71afb9029155",
        "colab": {
          "base_uri": "https://localhost:8080/",
          "height": 34
        }
      },
      "source": [
        "X.shape"
      ],
      "execution_count": 76,
      "outputs": [
        {
          "output_type": "execute_result",
          "data": {
            "text/plain": [
              "(300, 2)"
            ]
          },
          "metadata": {
            "tags": []
          },
          "execution_count": 76
        }
      ]
    },
    {
      "cell_type": "markdown",
      "metadata": {
        "id": "gYwZJFK-_Eu6",
        "colab_type": "text"
      },
      "source": [
        "$L_i = -log(\\frac{e^f_{yi}}{\\sum e^{f_j}})$\n",
        "\n",
        "`exp_scores` is the numerator <br>\n",
        "\n",
        "`probs` are the terms inside the parantheses (numerator / denominator)"
      ]
    },
    {
      "cell_type": "code",
      "metadata": {
        "id": "9ZBkKPWWxzTW",
        "colab_type": "code",
        "colab": {}
      },
      "source": [
        "num_examples = X.shape[0]\n",
        "\n",
        "#first, get the unnormalized probs [300,3]\n",
        "exp_scores = np.exp(scores)\n",
        "\n",
        "#next, normalize them for each example [300,3]\n",
        "probs = exp_scores / np.sum(exp_scores, axis=1, keepdims=True)\n"
      ],
      "execution_count": 0,
      "outputs": []
    },
    {
      "cell_type": "code",
      "metadata": {
        "id": "ImXKbTCf-FIJ",
        "colab_type": "code",
        "outputId": "21a58c8f-fdbb-426c-c9da-11b645afea8c",
        "colab": {
          "base_uri": "https://localhost:8080/",
          "height": 102
        }
      },
      "source": [
        "print(exp_scores[:5]) #print the first five unnormalized scores for the first 5 examples"
      ],
      "execution_count": 78,
      "outputs": [
        {
          "output_type": "stream",
          "text": [
            "[[1.         1.         1.        ]\n",
            " [0.99994336 1.00003838 0.99998708]\n",
            " [0.99989278 1.0000717  0.9999894 ]\n",
            " [0.9998156  1.00012767 0.99991889]\n",
            " [0.99986955 1.00007659 1.00014085]]\n"
          ],
          "name": "stdout"
        }
      ]
    },
    {
      "cell_type": "code",
      "metadata": {
        "id": "StVdSu05-Gci",
        "colab_type": "code",
        "outputId": "0765a459-f569-426e-8b36-a4c17861be30",
        "colab": {
          "base_uri": "https://localhost:8080/",
          "height": 102
        }
      },
      "source": [
        "probs[:5] #the normalized scores for the same 5 exa - each row sums to 1.0 now"
      ],
      "execution_count": 79,
      "outputs": [
        {
          "output_type": "execute_result",
          "data": {
            "text/plain": [
              "array([[0.33333333, 0.33333333, 0.33333333],\n",
              "       [0.33331792, 0.33334959, 0.33333249],\n",
              "       [0.33330272, 0.33336236, 0.33333492],\n",
              "       [0.33328718, 0.33339121, 0.33332161],\n",
              "       [0.33328019, 0.3333492 , 0.33337062]])"
            ]
          },
          "metadata": {
            "tags": []
          },
          "execution_count": 79
        }
      ]
    },
    {
      "cell_type": "markdown",
      "metadata": {
        "id": "EXRsd9bO_R0b",
        "colab_type": "text"
      },
      "source": [
        "$L_i = -log(\\frac{e^f_{yi}}{\\sum e^{f_j}})$\n",
        "\n",
        "`correct_logprobs` now applies the `-log` to `probs`"
      ]
    },
    {
      "cell_type": "code",
      "metadata": {
        "id": "g2jGa3wk-dDQ",
        "colab_type": "code",
        "colab": {}
      },
      "source": [
        "correct_logprobs = -np.log(probs[range(num_examples), y])"
      ],
      "execution_count": 0,
      "outputs": []
    },
    {
      "cell_type": "code",
      "metadata": {
        "id": "QL8cK01O-yal",
        "colab_type": "code",
        "outputId": "af2ac2fa-4f08-40da-978d-520061361f74",
        "colab": {
          "base_uri": "https://localhost:8080/",
          "height": 68
        }
      },
      "source": [
        "print(\"Shape of correct_logprobs is a vector:\", correct_logprobs.shape)\n",
        "print(\"The first five examples:\")\n",
        "print(correct_logprobs[:5])"
      ],
      "execution_count": 81,
      "outputs": [
        {
          "output_type": "stream",
          "text": [
            "Shape of correct_logprobs is a vector: (300,)\n",
            "The first five examples:\n",
            "[1.09861229 1.09865854 1.09870414 1.09875075 1.09877174]\n"
          ],
          "name": "stdout"
        }
      ]
    },
    {
      "cell_type": "markdown",
      "metadata": {
        "id": "3urhe7J1_vz9",
        "colab_type": "text"
      },
      "source": [
        "## Full Loss\n",
        "**The full loss is the average of these log probabilities and the regularization loss**\n",
        "\n",
        "$L = \\frac{1}{N} \\sum_i L_i + \\frac{1}{2}\\lambda \\sum_k \\sum_l W^2_{k, l}$\n",
        "\n",
        "`data_loss` is the term on the left <br> \n",
        "`reg_loss` is the term of the right where `reg` is the lambda parameter.<br>\n",
        "`loss` is the addition of these two terms"
      ]
    },
    {
      "cell_type": "code",
      "metadata": {
        "id": "N34ByO8b_rww",
        "colab_type": "code",
        "colab": {}
      },
      "source": [
        "data_loss = np.sum(correct_logprobs)/num_examples \n",
        "\n",
        "reg = 0.01\n",
        "reg_loss = 0.5*reg*np.sum(W*W)\n",
        "\n",
        "loss = data_loss + reg_loss\n"
      ],
      "execution_count": 0,
      "outputs": []
    },
    {
      "cell_type": "code",
      "metadata": {
        "id": "8oZzoHiiBEls",
        "colab_type": "code",
        "outputId": "98113676-b20c-41f9-b13e-476dcaba9185",
        "colab": {
          "base_uri": "https://localhost:8080/",
          "height": 34
        }
      },
      "source": [
        "loss"
      ],
      "execution_count": 83,
      "outputs": [
        {
          "output_type": "execute_result",
          "data": {
            "text/plain": [
              "1.0987275870651887"
            ]
          },
          "metadata": {
            "tags": []
          },
          "execution_count": 83
        }
      ]
    },
    {
      "cell_type": "markdown",
      "metadata": {
        "id": "CMqXtfpxA28G",
        "colab_type": "text"
      },
      "source": [
        "##**Computing the Analytic Gradient with Backpropogation**\n",
        "\n",
        "Now, minimize the loss using gradient descent. Evaluate the gradient (vector of partial derivatives) of the loss function with respect to the parameters W, b and X input. \n",
        "\n",
        "Loss for one example: \n",
        "\n",
        "p is a vector of normalized probabilities: \n",
        "\n",
        "$p_k = \\frac{e^{f_k}}{\\sum_j e^{f_j}}$\n",
        "\n",
        "How do the scores inside f(x) change to decrease the loss, Li? Where the f(x) = f(W,X) = Wx + b.\n",
        "\n",
        "$L_i = -log(p_{y_i})$\n",
        "\n",
        "So, you need to derive the gradient: $\\frac{\\partial L_i}{\\partial f_k}$\n",
        "\n",
        "This is asking: \"How does the loss for this example change with small changes to the scores computed for this one neuron function (WX + b)?\"\n",
        "\n",
        "$\\frac{\\partial L_i}{\\partial f_k} = p_k - \\mathbb{1}(y_i = k)$\n",
        "\n",
        "Example: `p = [0.2, 0.3, 0.5]` and the correct class is the middle one with the score 0.3. <br>\n",
        "\n",
        "So then using the above: <br>\n",
        "\n",
        "`df = [0.2, 0.7, 0.5]` <br>\n",
        "\n",
        "I guess this means the probability minus 1 only for that specific class, k. So, here the correct class is the 2nd one (green). We ignore the other ones and leave them at 0.2 and 0.5 But for green, we calculate 0.3 - 1.0 = -0.7. <br>\n",
        "\n",
        "But if the score for the correct class 0.3 increased to 0.8, for example, the `df` would decrease from -0.7 to -0.2."
      ]
    },
    {
      "cell_type": "code",
      "metadata": {
        "id": "TMc9qilTFBHI",
        "colab_type": "code",
        "colab": {}
      },
      "source": [
        "dscores = probs #normalized probabilities\n",
        "dscores[range(num_examples), y] -= 1 #means dscores = dscores - 1 iteratively\n",
        "dscores /= num_examples #means dscores = dscores/num_examples iteratively "
      ],
      "execution_count": 0,
      "outputs": []
    },
    {
      "cell_type": "code",
      "metadata": {
        "id": "_oEAFaYEFBEm",
        "colab_type": "code",
        "outputId": "d684447f-fe30-4ab7-c4fb-c1236312ad84",
        "colab": {
          "base_uri": "https://localhost:8080/",
          "height": 1000
        }
      },
      "source": [
        "dscores"
      ],
      "execution_count": 85,
      "outputs": [
        {
          "output_type": "execute_result",
          "data": {
            "text/plain": [
              "array([[-0.00222222,  0.00111111,  0.00111111],\n",
              "       [-0.00222227,  0.00111117,  0.00111111],\n",
              "       [-0.00222232,  0.00111121,  0.00111112],\n",
              "       [-0.00222238,  0.0011113 ,  0.00111107],\n",
              "       [-0.0022224 ,  0.00111116,  0.00111124],\n",
              "       [-0.00222247,  0.00111127,  0.00111119],\n",
              "       [-0.00222251,  0.00111127,  0.00111123],\n",
              "       [-0.00222256,  0.00111131,  0.00111125],\n",
              "       [-0.00222259,  0.00111129,  0.00111131],\n",
              "       [-0.00222268,  0.00111153,  0.00111115],\n",
              "       [-0.00222259,  0.00111101,  0.00111158],\n",
              "       [-0.00222269,  0.0011112 ,  0.00111149],\n",
              "       [-0.00222259,  0.00111083,  0.00111176],\n",
              "       [-0.00222278,  0.00111121,  0.00111157],\n",
              "       [-0.00222272,  0.00111094,  0.00111178],\n",
              "       [-0.00222275,  0.00111093,  0.00111183],\n",
              "       [-0.0022229 ,  0.00111123,  0.00111167],\n",
              "       [-0.00222299,  0.00111138,  0.00111161],\n",
              "       [-0.00222277,  0.00111068,  0.00111209],\n",
              "       [-0.00222281,  0.00111068,  0.00111213],\n",
              "       [-0.00222282,  0.00111062,  0.00111221],\n",
              "       [-0.00222276,  0.00111041,  0.00111236],\n",
              "       [-0.00222293,  0.00111067,  0.00111226],\n",
              "       [-0.00222283,  0.00111037,  0.00111246],\n",
              "       [-0.00222271,  0.00111006,  0.00111265],\n",
              "       [-0.00222265,  0.00110989,  0.00111277],\n",
              "       [-0.00222269,  0.00110987,  0.00111282],\n",
              "       [-0.00222264,  0.00110972,  0.00111293],\n",
              "       [-0.00222283,  0.00110996,  0.00111287],\n",
              "       [-0.00222279,  0.00110981,  0.00111298],\n",
              "       [-0.00222204,  0.00110875,  0.0011133 ],\n",
              "       [-0.00222237,  0.00110903,  0.00111333],\n",
              "       [-0.00222226,  0.00110883,  0.00111343],\n",
              "       [-0.00222258,  0.00110917,  0.00111341],\n",
              "       [-0.00222228,  0.00110871,  0.00111357],\n",
              "       [-0.00222271,  0.00110922,  0.00111349],\n",
              "       [-0.0022221 ,  0.00110837,  0.00111374],\n",
              "       [-0.00222194,  0.00110814,  0.00111381],\n",
              "       [-0.00222178,  0.00110792,  0.00111386],\n",
              "       [-0.00222124,  0.00110753,  0.00111371],\n",
              "       [-0.00222177,  0.00110777,  0.00111401],\n",
              "       [-0.00222197,  0.00110787,  0.0011141 ],\n",
              "       [-0.00222144,  0.00110738,  0.00111406],\n",
              "       [-0.00222145,  0.00110731,  0.00111414],\n",
              "       [-0.00222149,  0.00110726,  0.00111423],\n",
              "       [-0.00222134,  0.00110709,  0.00111425],\n",
              "       [-0.00222168,  0.00110724,  0.00111443],\n",
              "       [-0.00222167,  0.00110716,  0.00111451],\n",
              "       [-0.00222127,  0.00110682,  0.00111445],\n",
              "       [-0.0022213 ,  0.00110675,  0.00111454],\n",
              "       [-0.00222087,  0.00110649,  0.00111437],\n",
              "       [-0.00222079,  0.00110639,  0.0011144 ],\n",
              "       [-0.00222037,  0.00110629,  0.00111408],\n",
              "       [-0.0022206 ,  0.00110618,  0.00111442],\n",
              "       [-0.00221995,  0.00110628,  0.00111367],\n",
              "       [-0.00221996,  0.00110616,  0.0011138 ],\n",
              "       [-0.00222065,  0.00110593,  0.00111473],\n",
              "       [-0.00221967,  0.00110618,  0.00111349],\n",
              "       [-0.0022204 ,  0.00110572,  0.00111469],\n",
              "       [-0.00221978,  0.00110581,  0.00111398],\n",
              "       [-0.00221982,  0.00110566,  0.00111416],\n",
              "       [-0.00221925,  0.00110632,  0.00111294],\n",
              "       [-0.00221936,  0.00110588,  0.00111348],\n",
              "       [-0.00221956,  0.00110549,  0.00111407],\n",
              "       [-0.00221916,  0.00110594,  0.00111322],\n",
              "       [-0.00221915,  0.00110577,  0.00111338],\n",
              "       [-0.00221987,  0.001105  ,  0.00111487],\n",
              "       [-0.00221953,  0.00110503,  0.00111449],\n",
              "       [-0.00221875,  0.00110777,  0.00111098],\n",
              "       [-0.00221877,  0.00110603,  0.00111274],\n",
              "       [-0.00221865,  0.00110637,  0.00111229],\n",
              "       [-0.00221857,  0.00110684,  0.00111173],\n",
              "       [-0.00221853,  0.00110649,  0.00111204],\n",
              "       [-0.00221852,  0.00110604,  0.00111248],\n",
              "       [-0.00221842,  0.0011066 ,  0.00111181],\n",
              "       [-0.00221838,  0.00110626,  0.00111212],\n",
              "       [-0.00221842,  0.00110812,  0.0011103 ],\n",
              "       [-0.00221829,  0.00110739,  0.0011109 ],\n",
              "       [-0.00221846,  0.00110885,  0.00110961],\n",
              "       [-0.00221817,  0.00110698,  0.00111118],\n",
              "       [-0.00221816,  0.00110745,  0.00111071],\n",
              "       [-0.0022181 ,  0.00110732,  0.00111078],\n",
              "       [-0.00221816,  0.00110812,  0.00111003],\n",
              "       [-0.00221842,  0.00110955,  0.00110887],\n",
              "       [-0.00221911,  0.00111181,  0.0011073 ],\n",
              "       [-0.00221833,  0.00110952,  0.00110881],\n",
              "       [-0.00221854,  0.0011104 ,  0.00110814],\n",
              "       [-0.00221839,  0.00111004,  0.00110835],\n",
              "       [-0.00221813,  0.00110922,  0.00110891],\n",
              "       [-0.00221788,  0.00110828,  0.0011096 ],\n",
              "       [-0.00221845,  0.00111064,  0.00110781],\n",
              "       [-0.00221847,  0.00111082,  0.00110765],\n",
              "       [-0.00221977,  0.00111404,  0.00110573],\n",
              "       [-0.0022193 ,  0.00111314,  0.00110616],\n",
              "       [-0.00221978,  0.00111422,  0.00110556],\n",
              "       [-0.00221856,  0.00111152,  0.00110703],\n",
              "       [-0.00221807,  0.00111017,  0.00110789],\n",
              "       [-0.00221807,  0.00111031,  0.00110776],\n",
              "       [-0.00221985,  0.00111469,  0.00110516],\n",
              "       [-0.00221852,  0.00111186,  0.00110666],\n",
              "       [ 0.00111111, -0.00222222,  0.00111111],\n",
              "       [ 0.00111114, -0.0022222 ,  0.00111106],\n",
              "       [ 0.00111116, -0.00222215,  0.00111099],\n",
              "       [ 0.00111116, -0.00222208,  0.00111091],\n",
              "       [ 0.00111118, -0.00222202,  0.00111085],\n",
              "       [ 0.00111118, -0.00222195,  0.00111077],\n",
              "       [ 0.00111115, -0.00222183,  0.00111068],\n",
              "       [ 0.00111122, -0.00222186,  0.00111064],\n",
              "       [ 0.00111114, -0.00222168,  0.00111054],\n",
              "       [ 0.00111125, -0.00222176,  0.00111051],\n",
              "       [ 0.00111116, -0.00222156,  0.0011104 ],\n",
              "       [ 0.00111126, -0.00222163,  0.00111036],\n",
              "       [ 0.00111111, -0.00222135,  0.00111024],\n",
              "       [ 0.00111109, -0.00222125,  0.00111016],\n",
              "       [ 0.00111112, -0.00222122,  0.0011101 ],\n",
              "       [ 0.00111101, -0.00222102,  0.00111002],\n",
              "       [ 0.00111103, -0.00222098,  0.00110994],\n",
              "       [ 0.00111088, -0.00222077,  0.00110989],\n",
              "       [ 0.00111107, -0.00222087,  0.0011098 ],\n",
              "       [ 0.00111095, -0.00222067,  0.00110973],\n",
              "       [ 0.00111103, -0.00222069,  0.00110965],\n",
              "       [ 0.0011106 , -0.0022203 ,  0.0011097 ],\n",
              "       [ 0.00111053, -0.00222019,  0.00110966],\n",
              "       [ 0.00111081, -0.00222027,  0.00110946],\n",
              "       [ 0.00111066, -0.00222009,  0.00110943],\n",
              "       [ 0.00111055, -0.00221995,  0.0011094 ],\n",
              "       [ 0.00111026, -0.0022198 ,  0.00110954],\n",
              "       [ 0.00111045, -0.00221975,  0.0011093 ],\n",
              "       [ 0.0011105 , -0.00221969,  0.00110919],\n",
              "       [ 0.00111022, -0.00221952,  0.00110931],\n",
              "       [ 0.00111018, -0.00221943,  0.00110925],\n",
              "       [ 0.00110985, -0.00221941,  0.00110957],\n",
              "       [ 0.00110985, -0.00221929,  0.00110944],\n",
              "       [ 0.00111017, -0.00221916,  0.00110899],\n",
              "       [ 0.00110965, -0.00221921,  0.00110956],\n",
              "       [ 0.00110949, -0.00221928,  0.00110979],\n",
              "       [ 0.00110949, -0.00221912,  0.00110964],\n",
              "       [ 0.00110922, -0.00221979,  0.00111057],\n",
              "       [ 0.00110923, -0.00221933,  0.00111009],\n",
              "       [ 0.00110949, -0.00221871,  0.00110921],\n",
              "       [ 0.00110921, -0.00221895,  0.00110975],\n",
              "       [ 0.00110924, -0.00221871,  0.00110947],\n",
              "       [ 0.00110938, -0.00221843,  0.00110904],\n",
              "       [ 0.00110898, -0.00221897,  0.00111   ],\n",
              "       [ 0.00110898, -0.00221873,  0.00110975],\n",
              "       [ 0.00110886, -0.00221889,  0.00111003],\n",
              "       [ 0.00110888, -0.00221857,  0.00110969],\n",
              "       [ 0.00110882, -0.00221852,  0.0011097 ],\n",
              "       [ 0.00110877, -0.00221844,  0.00110967],\n",
              "       [ 0.0011086 , -0.00221911,  0.00111052],\n",
              "       [ 0.00110855, -0.00221969,  0.00111113],\n",
              "       [ 0.00110874, -0.00221795,  0.00110921],\n",
              "       [ 0.0011085 , -0.00222006,  0.00111156],\n",
              "       [ 0.00110841, -0.00221865,  0.00111024],\n",
              "       [ 0.00110835, -0.0022186 ,  0.00111024],\n",
              "       [ 0.00110829, -0.00221941,  0.00111111],\n",
              "       [ 0.00110825, -0.00221941,  0.00111117],\n",
              "       [ 0.00110822, -0.00221823,  0.00111001],\n",
              "       [ 0.00110813, -0.00221882,  0.00111069],\n",
              "       [ 0.00110825, -0.00222042,  0.00111216],\n",
              "       [ 0.00110862, -0.00222196,  0.00111334],\n",
              "       [ 0.001108  , -0.00221924,  0.00111125],\n",
              "       [ 0.00110794, -0.00221909,  0.00111116],\n",
              "       [ 0.00110808, -0.00222042,  0.00111233],\n",
              "       [ 0.00110812, -0.00222079,  0.00111266],\n",
              "       [ 0.00110801, -0.00222046,  0.00111245],\n",
              "       [ 0.00110772, -0.00221827,  0.00111055],\n",
              "       [ 0.0011085 , -0.00222244,  0.00111394],\n",
              "       [ 0.00110805, -0.00222112,  0.00111308],\n",
              "       [ 0.00110792, -0.00222079,  0.00111287],\n",
              "       [ 0.0011077 , -0.00221997,  0.00111227],\n",
              "       [ 0.00110769, -0.00222016,  0.00111247],\n",
              "       [ 0.00110787, -0.00222106,  0.0011132 ],\n",
              "       [ 0.00110878, -0.00222375,  0.00111497],\n",
              "       [ 0.00110815, -0.00222224,  0.00111409],\n",
              "       [ 0.0011093 , -0.00222498,  0.00111569],\n",
              "       [ 0.00110907, -0.00222462,  0.00111555],\n",
              "       [ 0.00110899, -0.00222454,  0.00111556],\n",
              "       [ 0.00110883, -0.0022243 ,  0.00111547],\n",
              "       [ 0.00111002, -0.00222652,  0.0011165 ],\n",
              "       [ 0.00110946, -0.00222568,  0.00111622],\n",
              "       [ 0.0011081 , -0.00222288,  0.00111478],\n",
              "       [ 0.00110979, -0.00222638,  0.0011166 ],\n",
              "       [ 0.00110938, -0.00222578,  0.0011164 ],\n",
              "       [ 0.00110989, -0.00222669,  0.00111681],\n",
              "       [ 0.00111166, -0.00222897,  0.00111731],\n",
              "       [ 0.00111248, -0.00222971,  0.00111723],\n",
              "       [ 0.00110932, -0.00222599,  0.00111667],\n",
              "       [ 0.00111041, -0.00222775,  0.00111734],\n",
              "       [ 0.00111079, -0.00222832,  0.00111753],\n",
              "       [ 0.00111138, -0.00222905,  0.00111768],\n",
              "       [ 0.00111024, -0.00222774,  0.0011175 ],\n",
              "       [ 0.00111184, -0.00222965,  0.00111781],\n",
              "       [ 0.00111102, -0.00222888,  0.00111786],\n",
              "       [ 0.00111239, -0.00223026,  0.00111786],\n",
              "       [ 0.00110935, -0.00222667,  0.00111732],\n",
              "       [ 0.0011108 , -0.00222883,  0.00111804],\n",
              "       [ 0.0011115 , -0.0022297 ,  0.00111819],\n",
              "       [ 0.00111257, -0.00223069,  0.00111812],\n",
              "       [ 0.00111096, -0.00222925,  0.00111829],\n",
              "       [ 0.00111111,  0.00111111, -0.00222222],\n",
              "       [ 0.0011111 ,  0.00111105, -0.00222215],\n",
              "       [ 0.00111117,  0.00111092, -0.0022221 ],\n",
              "       [ 0.00111115,  0.00111086, -0.00222201],\n",
              "       [ 0.00111122,  0.00111074, -0.00222196],\n",
              "       [ 0.00111124,  0.00111065, -0.00222189],\n",
              "       [ 0.00111122,  0.00111058, -0.0022218 ],\n",
              "       [ 0.00111127,  0.00111048, -0.00222174],\n",
              "       [ 0.00111126,  0.0011104 , -0.00222166],\n",
              "       [ 0.00111153,  0.00111036, -0.00222189],\n",
              "       [ 0.0011114 ,  0.00111018, -0.00222158],\n",
              "       [ 0.00111156,  0.00111012, -0.00222168],\n",
              "       [ 0.00111164,  0.00111006, -0.00222169],\n",
              "       [ 0.00111152,  0.0011099 , -0.00222142],\n",
              "       [ 0.00111171,  0.00110987, -0.00222157],\n",
              "       [ 0.00111152,  0.00110972, -0.00222124],\n",
              "       [ 0.00111164,  0.00110962, -0.00222126],\n",
              "       [ 0.00111179,  0.00110956, -0.00222135],\n",
              "       [ 0.00111183,  0.00110947, -0.00222131],\n",
              "       [ 0.00111184,  0.00110936, -0.0022212 ],\n",
              "       [ 0.0011119 ,  0.00110928, -0.00222118],\n",
              "       [ 0.00111218,  0.00110971, -0.00222189],\n",
              "       [ 0.00111209,  0.0011092 , -0.0022213 ],\n",
              "       [ 0.00111185,  0.00110897, -0.00222082],\n",
              "       [ 0.00111195,  0.00110888, -0.00222083],\n",
              "       [ 0.00111236,  0.00110928, -0.00222165],\n",
              "       [ 0.00111245,  0.00110956, -0.002222  ],\n",
              "       [ 0.00111249,  0.00110928, -0.00222177],\n",
              "       [ 0.0011125 ,  0.0011101 , -0.00222259],\n",
              "       [ 0.00111252,  0.00110884, -0.00222136],\n",
              "       [ 0.00111265,  0.00110951, -0.00222217],\n",
              "       [ 0.00111268,  0.00110976, -0.00222244],\n",
              "       [ 0.00111262,  0.00111034, -0.00222296],\n",
              "       [ 0.00111277,  0.00110874, -0.00222151],\n",
              "       [ 0.00111279,  0.00110993, -0.00222271],\n",
              "       [ 0.00111291,  0.00110903, -0.00222194],\n",
              "       [ 0.00111293,  0.00110951, -0.00222244],\n",
              "       [ 0.00111302,  0.00110899, -0.002222  ],\n",
              "       [ 0.00111291,  0.00111014, -0.00222305],\n",
              "       [ 0.00111312,  0.00110878, -0.0022219 ],\n",
              "       [ 0.00111309,  0.00110965, -0.00222275],\n",
              "       [ 0.00111322,  0.00110868, -0.0022219 ],\n",
              "       [ 0.00111316,  0.00110976, -0.00222292],\n",
              "       [ 0.00111303,  0.00111051, -0.00222354],\n",
              "       [ 0.00111329,  0.00110949, -0.00222279],\n",
              "       [ 0.00111256,  0.00111201, -0.00222457],\n",
              "       [ 0.00111276,  0.00111164, -0.0022244 ],\n",
              "       [ 0.00111339,  0.00110966, -0.00222305],\n",
              "       [ 0.00111278,  0.00111178, -0.00222456],\n",
              "       [ 0.00111258,  0.00111234, -0.00222492],\n",
              "       [ 0.00111326,  0.00111067, -0.00222393],\n",
              "       [ 0.0011134 ,  0.00111033, -0.00222373],\n",
              "       [ 0.00111254,  0.00111268, -0.00222522],\n",
              "       [ 0.00111263,  0.00111259, -0.00222522],\n",
              "       [ 0.00111296,  0.00111194, -0.0022249 ],\n",
              "       [ 0.00111251,  0.00111299, -0.0022255 ],\n",
              "       [ 0.00111269,  0.00111272, -0.00222541],\n",
              "       [ 0.00111292,  0.00111231, -0.00222523],\n",
              "       [ 0.00111302,  0.00111217, -0.0022252 ],\n",
              "       [ 0.00111297,  0.00111238, -0.00222536],\n",
              "       [ 0.00111276,  0.00111292, -0.00222568],\n",
              "       [ 0.00111332,  0.00111176, -0.00222508],\n",
              "       [ 0.00111186,  0.00111464, -0.00222649],\n",
              "       [ 0.00111237,  0.00111389, -0.00222626],\n",
              "       [ 0.00111209,  0.00111443, -0.00222652],\n",
              "       [ 0.00111185,  0.00111487, -0.00222672],\n",
              "       [ 0.0011121 ,  0.00111457, -0.00222667],\n",
              "       [ 0.00111226,  0.0011144 , -0.00222665],\n",
              "       [ 0.00111063,  0.00111655, -0.00222718],\n",
              "       [ 0.00111174,  0.00111532, -0.00222706],\n",
              "       [ 0.00111051,  0.0011168 , -0.00222731],\n",
              "       [ 0.00111049,  0.0011169 , -0.00222738],\n",
              "       [ 0.00111044,  0.00111701, -0.00222745],\n",
              "       [ 0.0011118 ,  0.00111553, -0.00222733],\n",
              "       [ 0.00111127,  0.0011163 , -0.00222756],\n",
              "       [ 0.00111074,  0.00111695, -0.00222769],\n",
              "       [ 0.00111123,  0.00111648, -0.00222772],\n",
              "       [ 0.00111103,  0.00111679, -0.00222782],\n",
              "       [ 0.00110996,  0.00111784, -0.0022278 ],\n",
              "       [ 0.00110961,  0.00111815, -0.00222776],\n",
              "       [ 0.00111003,  0.00111794, -0.00222797],\n",
              "       [ 0.00111084,  0.00111729, -0.00222812],\n",
              "       [ 0.00110957,  0.0011184 , -0.00222798],\n",
              "       [ 0.00110927,  0.00111864, -0.00222791],\n",
              "       [ 0.00110708,  0.0011179 , -0.00222498],\n",
              "       [ 0.00110811,  0.00111902, -0.00222713],\n",
              "       [ 0.00110878,  0.00111907, -0.00222785],\n",
              "       [ 0.0011082 ,  0.00111923, -0.00222743],\n",
              "       [ 0.00110892,  0.0011192 , -0.00222812],\n",
              "       [ 0.00110912,  0.0011192 , -0.00222831],\n",
              "       [ 0.00110877,  0.00111941, -0.00222818],\n",
              "       [ 0.00110812,  0.0011196 , -0.00222772],\n",
              "       [ 0.00110799,  0.00111969, -0.00222768],\n",
              "       [ 0.00110658,  0.00111845, -0.00222503],\n",
              "       [ 0.0011066 ,  0.0011187 , -0.0022253 ],\n",
              "       [ 0.0011071 ,  0.00111962, -0.00222672],\n",
              "       [ 0.00110667,  0.00111923, -0.0022259 ],\n",
              "       [ 0.00110659,  0.00111925, -0.00222583],\n",
              "       [ 0.00110633,  0.00111882, -0.00222514],\n",
              "       [ 0.00110638,  0.00111916, -0.00222553]])"
            ]
          },
          "metadata": {
            "tags": []
          },
          "execution_count": 85
        }
      ]
    },
    {
      "cell_type": "code",
      "metadata": {
        "id": "sfKt7-j0AYbU",
        "colab_type": "code",
        "colab": {}
      },
      "source": [
        "#backprop on W and b\n",
        "# I think you need X.T because one example/one row of X is [1, 2], but X needs to be a vector of [2,1]\n",
        "\n",
        "dW = np.dot(X.T, dscores) #dot product of transpose X (input)*dscores (which is really probs [300,3] matrix)\n",
        "db = np.sum(dscores, axis=0, keepdims=True)\n",
        "dW += reg*W #regularization"
      ],
      "execution_count": 0,
      "outputs": []
    },
    {
      "cell_type": "code",
      "metadata": {
        "id": "lKhV13BFOqNm",
        "colab_type": "code",
        "colab": {
          "base_uri": "https://localhost:8080/",
          "height": 51
        },
        "outputId": "ed49f91d-82bc-4ac5-ff8e-65c42aa93c0a"
      },
      "source": [
        "dW"
      ],
      "execution_count": 92,
      "outputs": [
        {
          "output_type": "execute_result",
          "data": {
            "text/plain": [
              "array([[-0.00036762, -0.00026368,  0.00064656],\n",
              "       [ 0.00127906, -0.00146875,  0.00022171]])"
            ]
          },
          "metadata": {
            "tags": []
          },
          "execution_count": 92
        }
      ]
    },
    {
      "cell_type": "markdown",
      "metadata": {
        "id": "GzbTGep1H1G9",
        "colab_type": "text"
      },
      "source": [
        "## **Parameter Update**"
      ]
    },
    {
      "cell_type": "code",
      "metadata": {
        "id": "PAXK8GmZGkyj",
        "colab_type": "code",
        "colab": {}
      },
      "source": [
        "step_size = 1e-0 \n",
        "\n",
        "W += -step_size * dW  #dW = dW + -step_size * dW, iteratively\n",
        "b += -step_size *db"
      ],
      "execution_count": 0,
      "outputs": []
    },
    {
      "cell_type": "code",
      "metadata": {
        "id": "X2lMCYYPICsF",
        "colab_type": "code",
        "outputId": "64a36dab-4895-452a-ae2c-408d2628ab45",
        "colab": {
          "base_uri": "https://localhost:8080/",
          "height": 51
        }
      },
      "source": [
        "W"
      ],
      "execution_count": 88,
      "outputs": [
        {
          "output_type": "execute_result",
          "data": {
            "text/plain": [
              "array([[ 0.046451  ,  0.04775162, -0.08346993],\n",
              "       [-0.09210866,  0.10590122, -0.01598547]])"
            ]
          },
          "metadata": {
            "tags": []
          },
          "execution_count": 88
        }
      ]
    },
    {
      "cell_type": "code",
      "metadata": {
        "id": "TVJ2-qDSIDhg",
        "colab_type": "code",
        "outputId": "b31e83b9-30a2-4f6e-f681-643cf7d938db",
        "colab": {
          "base_uri": "https://localhost:8080/",
          "height": 34
        }
      },
      "source": [
        "b"
      ],
      "execution_count": 89,
      "outputs": [
        {
          "output_type": "execute_result",
          "data": {
            "text/plain": [
              "array([[-3.69158055e-05,  3.42693941e-06,  3.34888661e-05]])"
            ]
          },
          "metadata": {
            "tags": []
          },
          "execution_count": 89
        }
      ]
    },
    {
      "cell_type": "markdown",
      "metadata": {
        "id": "zW9imf-BIKWm",
        "colab_type": "text"
      },
      "source": [
        "## For the entire set of 200 training examples\n"
      ]
    },
    {
      "cell_type": "code",
      "metadata": {
        "id": "Ga5C7GoPIEbL",
        "colab_type": "code",
        "outputId": "461b0f24-4a77-4cde-be40-47a0b4b14fca",
        "colab": {
          "base_uri": "https://localhost:8080/",
          "height": 357
        }
      },
      "source": [
        "#Train a Linear Classifier\n",
        "\n",
        "# initialize parameters randomly\n",
        "W = 0.01 * np.random.randn(D,K)\n",
        "b = np.zeros((1,K))\n",
        "\n",
        "# some hyperparameters\n",
        "step_size = 1e-0 #here, step size of 10\n",
        "reg = 1e-3 # regularization strength\n",
        "\n",
        "# gradient descent loop\n",
        "num_examples = X.shape[0]\n",
        "for i in range(200):\n",
        "  \n",
        "  # evaluate class scores, [N x K]\n",
        "  scores = np.dot(X, W) + b \n",
        "  \n",
        "  # compute the class probabilities\n",
        "  exp_scores = np.exp(scores)\n",
        "  probs = exp_scores / np.sum(exp_scores, axis=1, keepdims=True) # [N x K]\n",
        "  \n",
        "  # compute the loss: average cross-entropy loss and regularization\n",
        "  correct_logprobs = -np.log(probs[range(num_examples),y])\n",
        "  data_loss = np.sum(correct_logprobs)/num_examples\n",
        "  reg_loss = 0.5*reg*np.sum(W*W)\n",
        "  loss = data_loss + reg_loss\n",
        "  if i % 10 == 0:\n",
        "    print(i, loss)\n",
        "  \n",
        "  # compute the gradient on scores\n",
        "  dscores = probs\n",
        "  dscores[range(num_examples),y] -= 1\n",
        "  dscores /= num_examples\n",
        "  \n",
        "  # backpropate the gradient to the parameters (W,b)\n",
        "  dW = np.dot(X.T, dscores)\n",
        "  db = np.sum(dscores, axis=0, keepdims=True)\n",
        "  \n",
        "  dW += reg*W # regularization gradient\n",
        "  \n",
        "  # perform a parameter update\n",
        "  W += -step_size * dW\n",
        "  b += -step_size * db"
      ],
      "execution_count": 90,
      "outputs": [
        {
          "output_type": "stream",
          "text": [
            "0 1.0998302834225624\n",
            "10 0.9048995359193108\n",
            "20 0.8318712868556977\n",
            "30 0.798242593182911\n",
            "40 0.7805056436157152\n",
            "50 0.7702841206510395\n",
            "60 0.7640248212686321\n",
            "70 0.7600211838291193\n",
            "80 0.757376022852911\n",
            "90 0.7555845610307732\n",
            "100 0.7543475559455971\n",
            "110 0.753480150634166\n",
            "120 0.7528643155647822\n",
            "130 0.752422639624683\n",
            "140 0.7521032194371998\n",
            "150 0.7518706121384018\n",
            "160 0.7517002428786295\n",
            "170 0.751574852548968\n",
            "180 0.751482188199708\n",
            "190 0.7514134709539152\n"
          ],
          "name": "stdout"
        }
      ]
    },
    {
      "cell_type": "markdown",
      "metadata": {
        "id": "m5lKtbpjIxJX",
        "colab_type": "text"
      },
      "source": [
        "**Evaluate**"
      ]
    },
    {
      "cell_type": "code",
      "metadata": {
        "id": "PuGtXsFHIc0H",
        "colab_type": "code",
        "outputId": "0605d96d-1816-4253-ba03-87222ba6d276",
        "colab": {
          "base_uri": "https://localhost:8080/",
          "height": 34
        }
      },
      "source": [
        "scores = np.dot(X,W) + b\n",
        "predicted_class = np.argmax(scores, axis=1)\n",
        "print(np.mean(predicted_class == y))"
      ],
      "execution_count": 91,
      "outputs": [
        {
          "output_type": "stream",
          "text": [
            "0.54\n"
          ],
          "name": "stdout"
        }
      ]
    },
    {
      "cell_type": "markdown",
      "metadata": {
        "id": "tHIJPZEYPAaQ",
        "colab_type": "text"
      },
      "source": [
        "#cs231n - Neural Network\n",
        "\n",
        "The data is not linearly separatable, anyway, looking at the plot. Use one hidden layer."
      ]
    },
    {
      "cell_type": "code",
      "metadata": {
        "id": "ECpHga1JJBTL",
        "colab_type": "code",
        "colab": {}
      },
      "source": [
        "#initialize parameters randomly \n",
        "\n",
        "h = 100\n",
        "W = 0.01 * np.random.randn(D,h)\n",
        "b = np.zeros((1,h))\n",
        "W2 = 0.01 *np.random.randn(h,K)\n",
        "b2 = np.zeros((1,K))"
      ],
      "execution_count": 0,
      "outputs": []
    },
    {
      "cell_type": "code",
      "metadata": {
        "id": "JXjSS1kqPnDi",
        "colab_type": "code",
        "colab": {
          "base_uri": "https://localhost:8080/",
          "height": 1000
        },
        "outputId": "64f739d6-d71e-4c37-b62f-aae8b5295a57"
      },
      "source": [
        "W2"
      ],
      "execution_count": 103,
      "outputs": [
        {
          "output_type": "execute_result",
          "data": {
            "text/plain": [
              "array([[ 2.30929153e-03,  1.25992379e-02,  1.36402706e-02],\n",
              "       [-1.89244567e-02,  1.83534252e-02, -9.21570895e-03],\n",
              "       [-3.07752773e-03, -6.55113029e-03,  4.11226748e-03],\n",
              "       [ 1.11811791e-02, -1.65198846e-02, -7.79772547e-04],\n",
              "       [ 1.50219388e-02, -7.72001511e-03, -5.26524640e-03],\n",
              "       [ 8.15525748e-04, -5.31254544e-03,  4.62121077e-03],\n",
              "       [-1.19208657e-02, -1.56293936e-03, -1.29338137e-02],\n",
              "       [-9.54336101e-04,  6.28831465e-03,  1.64264350e-03],\n",
              "       [ 1.13561969e-03,  7.55612852e-03,  1.85626496e-02],\n",
              "       [ 2.44949781e-02, -1.45541940e-02,  1.39786002e-02],\n",
              "       [-8.70918635e-04, -5.30399375e-04,  1.50618887e-02],\n",
              "       [-5.06613346e-03, -6.42729870e-03,  4.22790169e-03],\n",
              "       [-1.50993282e-03, -8.10827541e-05, -1.03862897e-03],\n",
              "       [-1.07771186e-02,  2.01449415e-03,  9.24049297e-03],\n",
              "       [ 5.29543103e-03,  4.42274275e-03, -5.66944183e-03],\n",
              "       [ 4.06804767e-03, -1.71613569e-02, -3.90690779e-03],\n",
              "       [ 1.47185905e-02, -9.12006401e-03, -1.39035233e-04],\n",
              "       [ 5.39864951e-03, -9.86705533e-03, -6.30057800e-03],\n",
              "       [-1.16039269e-03,  3.34820221e-04, -3.14382370e-03],\n",
              "       [ 9.50015094e-03,  1.94115787e-02,  7.48795966e-03],\n",
              "       [ 1.05912559e-02, -3.51761057e-04, -1.20046687e-02],\n",
              "       [ 2.19055585e-03, -6.33674296e-03, -1.10848481e-02],\n",
              "       [-3.54320090e-03, -1.19737077e-02, -1.54400130e-03],\n",
              "       [-7.47138770e-03, -5.85883870e-03, -6.15521658e-05],\n",
              "       [ 5.18110200e-03,  4.81811325e-03, -1.06757617e-02],\n",
              "       [-8.65890051e-04, -1.39259450e-02, -3.55778483e-03],\n",
              "       [-1.08911780e-03,  7.94983072e-03,  1.13027456e-02],\n",
              "       [-1.36495910e-02,  1.25344862e-02,  3.76685963e-03],\n",
              "       [ 6.93507334e-03,  1.22016682e-03, -2.35764703e-03],\n",
              "       [ 1.37651421e-02, -2.57786064e-03,  4.48616389e-03],\n",
              "       [ 1.40314807e-02,  3.34894019e-02,  4.64621350e-03],\n",
              "       [ 5.87048385e-03, -3.26852561e-04, -8.97103709e-03],\n",
              "       [-9.34137335e-04, -1.71730442e-02,  6.02752825e-03],\n",
              "       [ 2.69857236e-03, -1.38098599e-02,  2.48403960e-03],\n",
              "       [ 1.42697531e-02, -8.43000887e-03, -1.72021264e-02],\n",
              "       [ 3.96501247e-03,  8.90030731e-03,  9.21636701e-03],\n",
              "       [-1.22337839e-02, -2.46936718e-03,  1.26839640e-02],\n",
              "       [ 3.22580410e-03,  6.08392103e-03, -1.10538011e-02],\n",
              "       [-8.39230032e-03, -2.88782970e-03,  4.06423380e-03],\n",
              "       [ 1.88125495e-02, -4.16248647e-03, -1.27288364e-02],\n",
              "       [ 5.87986848e-03, -3.46560688e-03,  1.02701475e-02],\n",
              "       [ 2.86315632e-03,  1.95008642e-02,  1.11892309e-02],\n",
              "       [ 6.21635636e-03, -1.46933289e-02,  2.02930672e-02],\n",
              "       [ 1.73846548e-03,  2.06419539e-02,  9.77351442e-03],\n",
              "       [-1.53528422e-02, -8.96214489e-03,  8.43211273e-03],\n",
              "       [-3.44010690e-05, -1.29350648e-02,  1.72515681e-02],\n",
              "       [ 4.50149038e-03, -1.26528082e-02,  1.68694612e-02],\n",
              "       [ 2.84789664e-03,  2.05221456e-02, -2.48460281e-03],\n",
              "       [-7.13292475e-03, -4.10943454e-03, -4.85347175e-03],\n",
              "       [ 1.06142726e-02,  3.81330246e-03,  3.04818227e-03],\n",
              "       [ 3.22430070e-03,  5.16275448e-03, -1.17524962e-03],\n",
              "       [ 1.02656837e-02, -7.86501357e-03, -7.91083931e-04],\n",
              "       [ 2.99921499e-03,  9.64933608e-03, -4.51351467e-03],\n",
              "       [ 4.51400636e-03, -1.67941495e-02,  5.02207932e-03],\n",
              "       [-8.13458867e-03, -1.57125018e-02, -7.44464829e-03],\n",
              "       [ 1.97257477e-02,  1.75428395e-02, -1.61380340e-02],\n",
              "       [-1.69451740e-02,  4.47320020e-03,  1.38398943e-02],\n",
              "       [-9.42484362e-03,  1.66033892e-02, -2.91091849e-03],\n",
              "       [-4.62311775e-03, -3.78802277e-03, -5.28018938e-03],\n",
              "       [ 1.67852463e-02, -1.26288306e-02, -9.49955180e-03],\n",
              "       [ 4.50386560e-03, -6.93543042e-03,  7.49626756e-03],\n",
              "       [ 1.22331460e-02, -1.48325195e-02,  3.98843849e-03],\n",
              "       [-1.84964904e-02,  1.21455558e-02, -1.63516047e-03],\n",
              "       [-2.43888665e-03,  8.47210623e-03, -7.04029590e-03],\n",
              "       [ 3.09584128e-03,  1.40718348e-02, -1.47982396e-02],\n",
              "       [-8.69838084e-03, -1.25389854e-02, -7.00129049e-03],\n",
              "       [ 1.21361807e-02,  8.96787975e-03,  3.36910959e-03],\n",
              "       [-6.73712561e-03, -8.17982971e-03, -9.05963087e-03],\n",
              "       [-9.94171651e-03,  1.11987751e-03,  1.55226227e-03],\n",
              "       [ 2.52283998e-02,  2.53774703e-03,  8.95379929e-03],\n",
              "       [-2.29013187e-02,  7.42786275e-04, -6.11918326e-03],\n",
              "       [ 3.15833693e-03, -1.39041901e-02, -9.82052145e-03],\n",
              "       [-1.10761419e-02,  7.48983817e-03, -2.40295277e-03],\n",
              "       [ 1.70334945e-02, -2.67312671e-03,  1.40716451e-02],\n",
              "       [ 1.86185486e-02,  4.57852177e-03, -1.01637932e-02],\n",
              "       [-5.58229646e-03,  1.08978608e-02, -7.70353664e-04],\n",
              "       [ 3.54850339e-03, -1.00883154e-02,  7.49044389e-03],\n",
              "       [ 1.52865829e-02, -1.16179941e-02,  1.35526672e-02],\n",
              "       [-3.45768181e-03,  1.62490306e-02,  1.35802056e-02],\n",
              "       [ 1.37631522e-02,  1.22328024e-02, -2.18404278e-02],\n",
              "       [ 1.50009380e-02, -5.65079856e-03, -1.02531167e-02],\n",
              "       [-1.98258614e-02,  2.26520278e-02, -7.78457043e-03],\n",
              "       [-1.04736635e-02, -1.01078793e-02,  1.19774600e-02],\n",
              "       [ 1.88744482e-02, -3.68228552e-03, -2.37914002e-02],\n",
              "       [-1.14104559e-02,  8.76515531e-03,  4.86970745e-04],\n",
              "       [ 2.28473943e-03, -1.49954089e-03, -1.27479015e-02],\n",
              "       [ 3.17583620e-03, -2.03733870e-03, -4.12301785e-03],\n",
              "       [-2.24523223e-03, -5.40270399e-04, -5.11627859e-03],\n",
              "       [ 9.42935992e-04, -6.54018480e-03, -2.91845606e-03],\n",
              "       [-1.67909270e-03, -1.53518851e-02, -1.68962898e-02],\n",
              "       [ 1.06345080e-02,  1.32483581e-02,  1.45835558e-02],\n",
              "       [ 8.21499621e-03,  1.54470994e-03,  1.58248987e-02],\n",
              "       [ 1.42130718e-02, -6.99808430e-03,  6.63285316e-03],\n",
              "       [-7.45817310e-03,  3.08565176e-03,  1.28039645e-02],\n",
              "       [ 1.25686667e-02, -2.16673482e-02,  7.00725890e-03],\n",
              "       [ 1.13563288e-02,  1.14750742e-02, -8.77117849e-03],\n",
              "       [-1.28282688e-02,  1.47521027e-03,  1.64578659e-03],\n",
              "       [-9.06968806e-03, -1.49852282e-05,  1.83366145e-03],\n",
              "       [ 1.33294694e-02,  2.11981375e-02, -9.09193313e-05],\n",
              "       [-6.37453928e-03, -7.82121231e-03, -1.83067694e-03]])"
            ]
          },
          "metadata": {
            "tags": []
          },
          "execution_count": 103
        }
      ]
    },
    {
      "cell_type": "markdown",
      "metadata": {
        "id": "PefbE7EhPrQb",
        "colab_type": "text"
      },
      "source": [
        "### **Forward Pass**"
      ]
    },
    {
      "cell_type": "code",
      "metadata": {
        "id": "REWGv1JGPo4j",
        "colab_type": "code",
        "colab": {}
      },
      "source": [
        "hidden_layer = np.maximum(0, np.dot(X,W) + b) #relu activiation\n",
        "scores = np.dot(hidden_layer, W2) + b2"
      ],
      "execution_count": 0,
      "outputs": []
    },
    {
      "cell_type": "markdown",
      "metadata": {
        "id": "55aqGvilQtSn",
        "colab_type": "text"
      },
      "source": [
        "### **Back Prop**"
      ]
    },
    {
      "cell_type": "code",
      "metadata": {
        "id": "6z7oX2zzP2lv",
        "colab_type": "code",
        "colab": {}
      },
      "source": [
        "#backprpo the gradient to the parameters, W2 b2\n",
        "\n",
        "dW2 = np.dot(hidden_layer.T, dscores)\n",
        "db2 = np.sum(dscores, axis=0, keepdims=True)"
      ],
      "execution_count": 0,
      "outputs": []
    },
    {
      "cell_type": "markdown",
      "metadata": {
        "id": "u65o9RIDQ6qg",
        "colab_type": "text"
      },
      "source": [
        "Hidden layer is a function of other parameters and data. Continue backprop..."
      ]
    },
    {
      "cell_type": "code",
      "metadata": {
        "id": "31lh-ZW2Q5PO",
        "colab_type": "code",
        "colab": {}
      },
      "source": [
        "dhidden = np.dot(dscores, W2.T)\n"
      ],
      "execution_count": 0,
      "outputs": []
    },
    {
      "cell_type": "markdown",
      "metadata": {
        "id": "iZLdl54LRGMw",
        "colab_type": "text"
      },
      "source": [
        "### Backprop the ReLU: \n",
        "\n",
        "since $r = max(0,x)$: \n",
        "\n",
        "$\\frac{\\partial r}{\\partial x} = 1(x>0)$ meaning 1 for all positive numbers <br>\n",
        "\n",
        "Lets gradient pass if x is greater than 0, but kills it otherwise and sets to zero."
      ]
    },
    {
      "cell_type": "code",
      "metadata": {
        "id": "rvf3-BgEREYV",
        "colab_type": "code",
        "colab": {}
      },
      "source": [
        "dhidden[hidden_layer <=0] = 0"
      ],
      "execution_count": 0,
      "outputs": []
    },
    {
      "cell_type": "code",
      "metadata": {
        "id": "ZCnGg0TgSkzp",
        "colab_type": "code",
        "colab": {
          "base_uri": "https://localhost:8080/",
          "height": 238
        },
        "outputId": "35e848a4-1596-4d67-9f54-7c7874a50514"
      },
      "source": [
        "dhidden"
      ],
      "execution_count": 108,
      "outputs": [
        {
          "output_type": "execute_result",
          "data": {
            "text/plain": [
              "array([[ 0.00000000e+00,  0.00000000e+00,  0.00000000e+00, ...,\n",
              "         0.00000000e+00,  0.00000000e+00,  0.00000000e+00],\n",
              "       [ 2.50218086e-05,  5.30119316e-05,  4.78064888e-06, ...,\n",
              "         0.00000000e+00,  0.00000000e+00,  3.85174823e-06],\n",
              "       [ 2.52886783e-05,  5.42134986e-05,  4.60805133e-06, ...,\n",
              "         0.00000000e+00,  0.00000000e+00,  3.76825860e-06],\n",
              "       ...,\n",
              "       [-2.64607964e-06,  6.37559849e-05,  0.00000000e+00, ...,\n",
              "         0.00000000e+00,  0.00000000e+00, -1.39893413e-05],\n",
              "       [-2.94743458e-06,  7.29486596e-05,  0.00000000e+00, ...,\n",
              "         0.00000000e+00,  0.00000000e+00, -1.59607980e-05],\n",
              "       [-2.81246563e-06,  6.92061364e-05,  0.00000000e+00, ...,\n",
              "         0.00000000e+00,  0.00000000e+00, -1.51511927e-05]])"
            ]
          },
          "metadata": {
            "tags": []
          },
          "execution_count": 108
        }
      ]
    },
    {
      "cell_type": "code",
      "metadata": {
        "id": "HN7sNiRtS0NQ",
        "colab_type": "code",
        "colab": {}
      },
      "source": [
        "#into W,b\n",
        "\n",
        "dW = np.dot(X.T, dhidden)\n",
        "db = np.sum(dhidden, axis=0, keepdims=True)"
      ],
      "execution_count": 0,
      "outputs": []
    },
    {
      "cell_type": "markdown",
      "metadata": {
        "id": "K2H3nSDBS9Ua",
        "colab_type": "text"
      },
      "source": [
        "### For all 300 examples\n",
        "\n",
        "Note: that `for i in range(10000)` means that there is a step_size = 1000. So, we will run gradient descent up to 10,000 increments of 1000, or 10. "
      ]
    },
    {
      "cell_type": "code",
      "metadata": {
        "id": "Q-Ib591PS6yF",
        "colab_type": "code",
        "colab": {
          "base_uri": "https://localhost:8080/",
          "height": 187
        },
        "outputId": "9768421c-3e5a-4cbd-ff55-60ce3cd937db"
      },
      "source": [
        "# initialize parameters randomly\n",
        "h = 100 # size of hidden layer\n",
        "W = 0.01 * np.random.randn(D,h)\n",
        "b = np.zeros((1,h))\n",
        "W2 = 0.01 * np.random.randn(h,K)\n",
        "b2 = np.zeros((1,K))\n",
        "\n",
        "# some hyperparameters\n",
        "step_size = 1e-0 #every step of 1000, it will make a forward and backward pass\n",
        "reg = 1e-3 # regularization strength\n",
        "\n",
        "# gradient descent loop\n",
        "num_examples = X.shape[0]\n",
        "for i in range(10000):\n",
        "  \n",
        "  # evaluate class scores, [N x K]\n",
        "  hidden_layer = np.maximum(0, np.dot(X, W) + b) # note, ReLU activation\n",
        "  scores = np.dot(hidden_layer, W2) + b2\n",
        "  \n",
        "  # compute the class probabilities\n",
        "  exp_scores = np.exp(scores)\n",
        "  probs = exp_scores / np.sum(exp_scores, axis=1, keepdims=True) # [N x K]\n",
        "  \n",
        "  # compute the loss: average cross-entropy loss and regularization\n",
        "  correct_logprobs = -np.log(probs[range(num_examples),y])\n",
        "  data_loss = np.sum(correct_logprobs)/num_examples\n",
        "  reg_loss = 0.5*reg*np.sum(W*W) + 0.5*reg*np.sum(W2*W2)\n",
        "  loss = data_loss + reg_loss\n",
        "  if i % 1000 == 0:\n",
        "    print (i, loss)\n",
        "  \n",
        "  # compute the gradient on scores\n",
        "  dscores = probs\n",
        "  dscores[range(num_examples),y] -= 1\n",
        "  dscores /= num_examples\n",
        "  \n",
        "  # backpropate the gradient to the parameters\n",
        "  # first backprop into parameters W2 and b2\n",
        "  dW2 = np.dot(hidden_layer.T, dscores)\n",
        "  db2 = np.sum(dscores, axis=0, keepdims=True)\n",
        "  # next backprop into hidden layer\n",
        "  dhidden = np.dot(dscores, W2.T)\n",
        "  # backprop the ReLU non-linearity\n",
        "  dhidden[hidden_layer <= 0] = 0\n",
        "  # finally into W,b\n",
        "  dW = np.dot(X.T, dhidden)\n",
        "  db = np.sum(dhidden, axis=0, keepdims=True)\n",
        "  \n",
        "  # add regularization gradient contribution\n",
        "  dW2 += reg * W2\n",
        "  dW += reg * W\n",
        "  \n",
        "  # perform a parameter update\n",
        "  W += -step_size * dW\n",
        "  b += -step_size * db\n",
        "  W2 += -step_size * dW2\n",
        "  b2 += -step_size * db2"
      ],
      "execution_count": 111,
      "outputs": [
        {
          "output_type": "stream",
          "text": [
            "0 1.0986473012850495\n",
            "1000 0.30839249863259277\n",
            "2000 0.2525649219925771\n",
            "3000 0.24702125127933966\n",
            "4000 0.24539135996536598\n",
            "5000 0.24486811773647077\n",
            "6000 0.24448170707140704\n",
            "7000 0.24423278422147288\n",
            "8000 0.24402461960949212\n",
            "9000 0.24389029716931765\n"
          ],
          "name": "stdout"
        }
      ]
    },
    {
      "cell_type": "markdown",
      "metadata": {
        "id": "-Kjp4LuwT4oy",
        "colab_type": "text"
      },
      "source": [
        "**Evaluate accuracy**"
      ]
    },
    {
      "cell_type": "code",
      "metadata": {
        "id": "idHsxRSjTH7B",
        "colab_type": "code",
        "colab": {
          "base_uri": "https://localhost:8080/",
          "height": 34
        },
        "outputId": "5e5b19da-353e-4e5b-a1be-0f663ea46f35"
      },
      "source": [
        "hidden_layer = np.maximum(0, np.dot(X,W) + b)\n",
        "scores = np.dot(hidden_layer,W2) + b2\n",
        "predicted_class = np.argmax(scores, axis=1)\n",
        "print(np.mean(predicted_class ==y))"
      ],
      "execution_count": 113,
      "outputs": [
        {
          "output_type": "stream",
          "text": [
            "0.9833333333333333\n"
          ],
          "name": "stdout"
        }
      ]
    },
    {
      "cell_type": "code",
      "metadata": {
        "id": "2jby95K9URrF",
        "colab_type": "code",
        "colab": {}
      },
      "source": [
        ""
      ],
      "execution_count": 0,
      "outputs": []
    }
  ]
}